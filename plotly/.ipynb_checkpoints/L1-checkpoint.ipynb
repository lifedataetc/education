{
 "cells": [
  {
   "cell_type": "code",
   "execution_count": 1,
   "metadata": {},
   "outputs": [],
   "source": [
    "import psycopg2 as pc2\n",
    "from string import Template\n",
    "import pandas as pd\n",
    "from datetime import date, timedelta, datetime\n",
    "from tqdm import tqdm"
   ]
  },
  {
   "cell_type": "code",
   "execution_count": 2,
   "metadata": {},
   "outputs": [],
   "source": [
    "CONNECTION_STRING = \"dbname=fred_ts host=localhost user=fred\"\n",
    "\n",
    "SCHEMA = 'fin_ts'\n",
    "SERIES = [\n",
    "    'DGS1MO','DGS3MO','DGS6MO','DGS1','DGS2',\n",
    "    'DGS3','DGS5','DGS7','DGS10','DGS20','DGS30'\n",
    "        ]\n",
    "\n",
    "def execute_and_return(query):\n",
    "    try:\n",
    "        # connect to the system\n",
    "        conn = pc2.connect(CONNECTION_STRING)\n",
    "        cur = conn.cursor()\n",
    "        cur.execute(query)\n",
    "        data = cur.fetchall()\n",
    "        conn.commit()\n",
    "        cur.close()\n",
    "        conn.close()\n",
    "        return(data)\n",
    "    # some basic error handling\n",
    "    except pc2.Error as err:\n",
    "        conn.rollback()\n",
    "        cur.close()\n",
    "        conn.close()\n",
    "        return(str(err))\n",
    "    except Exception as err:\n",
    "        conn.rollback()\n",
    "        cur.close()\n",
    "        conn.close()\n",
    "        return(str(err))"
   ]
  },
  {
   "cell_type": "code",
   "execution_count": 3,
   "metadata": {},
   "outputs": [],
   "source": [
    "def get_dates(sdate,edate):\n",
    "    delta = edate - sdate       # as timedelta\n",
    "\n",
    "    all_dates = []\n",
    "    for i in range(delta.days + 1):\n",
    "        day = sdate + timedelta(days=i)\n",
    "        all_dates.append(day)\n",
    "\n",
    "    return(all_dates)\n",
    "\n",
    "def dt_con(in_dt):\n",
    "    return(datetime.date(datetime.strptime(in_dt,'%Y-%m-%d')))"
   ]
  },
  {
   "cell_type": "code",
   "execution_count": 4,
   "metadata": {},
   "outputs": [],
   "source": [
    "def dt_con_csv(in_dts):\n",
    "    out_dts = []\n",
    "    for in_dt in in_dts.split(','):\n",
    "        out_dts.append(dt_con(in_dt))\n",
    "    \n",
    "    return(out_dts)"
   ]
  },
  {
   "cell_type": "code",
   "execution_count": 5,
   "metadata": {},
   "outputs": [],
   "source": [
    "yc_data = execute_and_return('SELECT * FROM fin_ts.yield_curve;')\n",
    "df = pd.DataFrame(yc_data,columns=['date','1_m', '3_m','6_m','1_y','2_y',\n",
    "                                   '3_y','5_y','7_y','10_y','20_y','30_y'])"
   ]
  },
  {
   "cell_type": "code",
   "execution_count": 6,
   "metadata": {},
   "outputs": [],
   "source": [
    "# setup dates\n",
    "sdate = df.date.min()   # start date\n",
    "edate = datetime.date(datetime.today())   # end date"
   ]
  },
  {
   "cell_type": "code",
   "execution_count": 7,
   "metadata": {},
   "outputs": [],
   "source": [
    "all_dates = get_dates(sdate,edate)"
   ]
  },
  {
   "cell_type": "code",
   "execution_count": 8,
   "metadata": {},
   "outputs": [],
   "source": [
    "all_dates_df = pd.DataFrame(all_dates,columns=['date'])\n",
    "df = pd.merge(left=all_dates_df,right=df,on='date',how='left')\n",
    "df.ffill(inplace=True)"
   ]
  },
  {
   "cell_type": "code",
   "execution_count": 9,
   "metadata": {},
   "outputs": [],
   "source": [
    "melted_df = pd.melt(df, id_vars=['date'], value_vars=['1_m', '3_m','6_m','1_y','2_y',\n",
    "                                   '3_y','5_y','7_y','10_y','20_y','30_y'])\n",
    "melted_df.columns = ['date','term','rate']"
   ]
  },
  {
   "cell_type": "code",
   "execution_count": 10,
   "metadata": {},
   "outputs": [],
   "source": [
    "import plotly.graph_objects as go\n",
    "import plotly.express as px\n",
    "from plotly.subplots import make_subplots\n",
    "from datetime import datetime"
   ]
  },
  {
   "cell_type": "code",
   "execution_count": 11,
   "metadata": {},
   "outputs": [],
   "source": [
    "melted_df['Day'] = melted_df.apply(lambda x: str(x.date),axis=1)"
   ]
  },
  {
   "cell_type": "code",
   "execution_count": 12,
   "metadata": {},
   "outputs": [
    {
     "data": {
      "text/plain": [
       "[datetime.date(2020, 1, 1),\n",
       " datetime.date(2020, 2, 1),\n",
       " datetime.date(2019, 12, 1)]"
      ]
     },
     "execution_count": 12,
     "metadata": {},
     "output_type": "execute_result"
    }
   ],
   "source": []
  },
  {
   "cell_type": "code",
   "execution_count": null,
   "metadata": {},
   "outputs": [],
   "source": [
    "melted_df['date'] in "
   ]
  },
  {
   "cell_type": "code",
   "execution_count": null,
   "metadata": {},
   "outputs": [],
   "source": [
    "def get_yield_curves(day1,day2):\n",
    "    mask = (melted_df['date'] == dt_con(day1)) | (melted_df['date'] == dt_con(day2))\n",
    "    fig = px.line(melted_df.loc[mask], x=\"term\", y=\"rate\",color=\"Day\")\n",
    "\n",
    "    fig.update_xaxes(\n",
    "        rangeslider_visible=True,\n",
    "        rangeselector=dict(\n",
    "            buttons=list([\n",
    "                dict(count=1, label=\"1m\", step=\"month\", stepmode=\"backward\"),\n",
    "                dict(count=6, label=\"6m\", step=\"month\", stepmode=\"backward\"),\n",
    "                dict(count=1, label=\"YTD\", step=\"year\", stepmode=\"todate\"),\n",
    "                dict(count=1, label=\"1y\", step=\"year\", stepmode=\"backward\"),\n",
    "                dict(step=\"all\")\n",
    "            ])\n",
    "        )\n",
    "    )\n",
    "    fig.show()"
   ]
  },
  {
   "cell_type": "code",
   "execution_count": null,
   "metadata": {},
   "outputs": [],
   "source": [
    "mask = (melted_df['date'] in dt_con('2000-01-01'))\n",
    "fig = px.line(melted_df.loc[mask], x=\"term\", y=\"rate\",color=\"Day\")\n",
    "\n",
    "fig.update_xaxes(\n",
    "    rangeslider_visible=True,\n",
    "    rangeselector=dict(\n",
    "        buttons=list([\n",
    "            dict(count=1, label=\"1m\", step=\"month\", stepmode=\"backward\"),\n",
    "            dict(count=6, label=\"6m\", step=\"month\", stepmode=\"backward\"),\n",
    "            dict(count=1, label=\"YTD\", step=\"year\", stepmode=\"todate\"),\n",
    "            dict(count=1, label=\"1y\", step=\"year\", stepmode=\"backward\"),\n",
    "            dict(step=\"all\")\n",
    "        ])\n",
    "    )\n",
    ")\n",
    "fig.update_layout(showlegend=False)\n",
    "fig.show()"
   ]
  },
  {
   "cell_type": "code",
   "execution_count": null,
   "metadata": {},
   "outputs": [],
   "source": [
    "get_yield_curves('2020-01-01','2000-01-01')"
   ]
  },
  {
   "cell_type": "code",
   "execution_count": null,
   "metadata": {},
   "outputs": [],
   "source": []
  }
 ],
 "metadata": {
  "kernelspec": {
   "display_name": "Python 3",
   "language": "python",
   "name": "python3"
  },
  "language_info": {
   "codemirror_mode": {
    "name": "ipython",
    "version": 3
   },
   "file_extension": ".py",
   "mimetype": "text/x-python",
   "name": "python",
   "nbconvert_exporter": "python",
   "pygments_lexer": "ipython3",
   "version": "3.7.7"
  }
 },
 "nbformat": 4,
 "nbformat_minor": 4
}
