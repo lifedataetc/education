{
 "cells": [
  {
   "cell_type": "code",
   "execution_count": null,
   "metadata": {},
   "outputs": [],
   "source": [
    "#######\n",
    "# This shows the mpg.csv dataset as a spread out scatter plot\n",
    "# without any callbacks.\n",
    "######\n",
    "import dash\n",
    "import dash_core_components as dcc\n",
    "import dash_html_components as html\n",
    "from dash.dependencies import Input,Output\n",
    "import plotly.graph_objs as go\n",
    "import pandas as pd\n",
    "from numpy import random\n",
    "\n",
    "app = dash.Dash()\n",
    "\n",
    "df = pd.read_csv('../data/mpg.csv')\n",
    "# Add a random \"jitter\" to model_year to spread out the plot\n",
    "df['year'] = random.randint(-4,5,len(df))*0.10 + df['model_year']\n",
    "\n",
    "app.layout = html.Div([\n",
    "    html.Div([   # this Div contains our scatter plot\n",
    "    dcc.Graph(\n",
    "        id='mpg_scatter',\n",
    "        figure={\n",
    "            'data': [go.Scattergl(\n",
    "                x = df['year']+1900,  # our \"jittered\" data\n",
    "                y = df['mpg'],\n",
    "                text = df['name'],\n",
    "                hoverinfo = 'text',\n",
    "                mode = 'markers'\n",
    "            )],\n",
    "            'layout': go.Layout(\n",
    "                title = 'mpg.csv dataset',\n",
    "                xaxis = {'title': 'model year'},\n",
    "                yaxis = {'title': 'miles per gallon'},\n",
    "                hovermode='closest'\n",
    "            )\n",
    "        }\n",
    "    )], style={'width':'50%','display':'inline-block'}),\n",
    "    html.Div([  # this Div contains our output graph and vehicle stats\n",
    "    dcc.Graph(\n",
    "        id='mpg_line',\n",
    "        figure={\n",
    "            'data': [go.Scattergl(\n",
    "                x = [0,1],\n",
    "                y = [0,1],\n",
    "                mode = 'lines'\n",
    "            )],\n",
    "            'layout': go.Layout(\n",
    "                title = 'acceleration',\n",
    "                margin = {'l':0}\n",
    "            )\n",
    "        }\n",
    "    ),\n",
    "    dcc.Markdown(\n",
    "        id='mpg_stats'\n",
    "    )\n",
    "    ], style={'width':'20%', 'height':'50%','display':'inline-block'})\n",
    "])"
   ]
  },
  {
   "cell_type": "code",
   "execution_count": null,
   "metadata": {},
   "outputs": [],
   "source": [
    "@app.callback(Output('mpg_line','figure'),\n",
    "              [Input('mpg_scatter','hoverData')])\n",
    "def callback_graph(hoverData):\n",
    "\n",
    "    v_index = hoverData['points'][0]['pointIndex']\n",
    "    figure = {'data':[go.Scattergl(x=[0,1],y=[0,60/df.iloc[v_index]['acceleration']],\n",
    "                                 mode='lines',line={'width':2*df.iloc[v_index]['cylinders']})],\n",
    "              'layout':go.Layout(title=df.iloc[v_index]['name'],\n",
    "                                 xaxis={'visible':False},yaxis={'visible':False,'range':[0,60/df['acceleration'].min()]},\n",
    "                                 margin={'l':0},height=300)}\n",
    "    \n",
    "    return(figure)"
   ]
  },
  {
   "cell_type": "code",
   "execution_count": null,
   "metadata": {},
   "outputs": [],
   "source": [
    "@app.callback(Output('mpg_stats','children'),\n",
    "              [Input('mpg_scatter','hoverData')])\n",
    "def callback_stats(hoverData):\n",
    "\n",
    "    v_index = hoverData['points'][0]['pointIndex']\n",
    "    stats = \"\"\"\n",
    "            {} cylinders\\n\n",
    "            {}cc displacement\\n\n",
    "            0 to 60mph in {} seconds\\n\n",
    "        \"\"\".format(df.iloc[v_index]['cylinders'],\n",
    "            df.iloc[v_index]['displacement'],\n",
    "            df.iloc[v_index]['acceleration'])\n",
    "    \n",
    "    return(stats)"
   ]
  },
  {
   "cell_type": "code",
   "execution_count": null,
   "metadata": {},
   "outputs": [],
   "source": [
    "app.run_server(host='0.0.0.0')"
   ]
  },
  {
   "cell_type": "code",
   "execution_count": null,
   "metadata": {},
   "outputs": [],
   "source": []
  }
 ],
 "metadata": {
  "kernelspec": {
   "display_name": "Python 3",
   "language": "python",
   "name": "python3"
  },
  "language_info": {
   "codemirror_mode": {
    "name": "ipython",
    "version": 3
   },
   "file_extension": ".py",
   "mimetype": "text/x-python",
   "name": "python",
   "nbconvert_exporter": "python",
   "pygments_lexer": "ipython3",
   "version": "3.8.2"
  }
 },
 "nbformat": 4,
 "nbformat_minor": 4
}
