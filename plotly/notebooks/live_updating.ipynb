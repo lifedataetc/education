{
 "cells": [
  {
   "cell_type": "markdown",
   "metadata": {},
   "source": [
    "## Refresh counter"
   ]
  },
  {
   "cell_type": "code",
   "execution_count": null,
   "metadata": {},
   "outputs": [],
   "source": [
    "#######\n",
    "# This page doesn't update.\n",
    "######\n",
    "import dash\n",
    "import dash_html_components as html\n",
    "\n",
    "app = dash.Dash()\n",
    "\n",
    "crash_free = 0\n",
    "def refresh_layout():\n",
    "    global crash_free\n",
    "    crash_free += 1\n",
    "    return(html.H1('Crash free for {} refreshes'.format(crash_free)))\n",
    "app.layout = refresh_layout\n",
    "app.run_server()"
   ]
  },
  {
   "cell_type": "markdown",
   "metadata": {},
   "source": [
    "## Now using interval"
   ]
  },
  {
   "cell_type": "code",
   "execution_count": null,
   "metadata": {},
   "outputs": [],
   "source": [
    "#######\n",
    "# This page updates automatically!\n",
    "######\n",
    "import dash\n",
    "import dash_html_components as html\n",
    "import dash_core_components as dcc\n",
    "from dash.dependencies import Input, Output\n",
    "\n",
    "app = dash.Dash()"
   ]
  },
  {
   "cell_type": "code",
   "execution_count": null,
   "metadata": {},
   "outputs": [],
   "source": [
    "app.layout = html.Div([\n",
    "    html.H1(id='live-update-text'),\n",
    "    dcc.Interval(\n",
    "        id='interval-component',\n",
    "        interval=2000, # 2000 milliseconds = 2 seconds\n",
    "        n_intervals=0\n",
    "    )\n",
    "])\n",
    "\n",
    "@app.callback(Output('live-update-text', 'children'),\n",
    "              [Input('interval-component', 'n_intervals')])\n",
    "def update_layout(n):\n",
    "    return 'Crash free for {} refreshes'.format(n)"
   ]
  },
  {
   "cell_type": "code",
   "execution_count": null,
   "metadata": {},
   "outputs": [],
   "source": [
    "app.run_server()"
   ]
  },
  {
   "cell_type": "markdown",
   "metadata": {},
   "source": [
    "## Now using some data scraping"
   ]
  },
  {
   "cell_type": "code",
   "execution_count": 1,
   "metadata": {},
   "outputs": [],
   "source": [
    "#######\n",
    "# This script will make regular API calls to http://data-live.flightradar24.com\n",
    "# to obtain updated total worldwide flights data.\n",
    "# ** This version continuously updates the number of flights worldwide,\n",
    "#    AND GRAPHS THOSE RESULTS OVER TIME! **\n",
    "######\n",
    "import dash\n",
    "import dash_core_components as dcc\n",
    "import dash_html_components as html\n",
    "from dash.dependencies import Input, Output\n",
    "import plotly.graph_objs as go\n",
    "import requests\n",
    "\n",
    "app = dash.Dash()\n",
    "\n",
    "app.layout = html.Div([\n",
    "    html.Div([\n",
    "        html.Iframe(src = 'https://www.flightradar24.com', height = 500, width = 1200)\n",
    "    ]),\n",
    "\n",
    "    html.Div([\n",
    "    html.Pre(\n",
    "        id='counter_text',\n",
    "        children='Active flights worldwide:'\n",
    "    ),\n",
    "    dcc.Graph(id='live-update-graph',style={'width':1200}),\n",
    "    dcc.Interval(\n",
    "        id='interval-component',\n",
    "        interval=6000, # 6000 milliseconds = 6 seconds\n",
    "        n_intervals=0\n",
    "    )])\n",
    "])\n",
    "counter_list = []\n",
    "\n",
    "@app.callback(Output('counter_text', 'children'),\n",
    "              [Input('interval-component', 'n_intervals')])\n",
    "def update_layout(n):\n",
    "    url = \"https://data-live.flightradar24.com/zones/fcgi/feed.js?faa=1\\\n",
    "           &mlat=1&flarm=1&adsb=1&gnd=1&air=1&vehicles=1&estimated=1&stats=1\"\n",
    "    # A fake header is necessary to access the site:\n",
    "    res = requests.get(url, headers={'User-Agent': 'Mozilla/5.0'})\n",
    "    data = res.json()\n",
    "    counter = 0\n",
    "    for element in data[\"stats\"][\"total\"]:\n",
    "        counter += data[\"stats\"][\"total\"][element]\n",
    "    counter_list.append(counter)\n",
    "    return 'Active flights worldwide: {}'.format(counter)\n",
    "\n",
    "@app.callback(Output('live-update-graph','figure'),\n",
    "              [Input('interval-component', 'n_intervals')])\n",
    "def update_graph(n):\n",
    "    fig = go.Figure(\n",
    "        data = [go.Scatter(\n",
    "        x = list(range(len(counter_list))),\n",
    "        y = counter_list,\n",
    "        mode='lines+markers'\n",
    "        )])\n",
    "    return fig"
   ]
  },
  {
   "cell_type": "code",
   "execution_count": 2,
   "metadata": {},
   "outputs": [
    {
     "name": "stdout",
     "output_type": "stream",
     "text": [
      " * Serving Flask app \"__main__\" (lazy loading)\n",
      " * Environment: production\n",
      "\u001b[31m   WARNING: This is a development server. Do not use it in a production deployment.\u001b[0m\n",
      "\u001b[2m   Use a production WSGI server instead.\u001b[0m\n",
      " * Debug mode: off\n"
     ]
    },
    {
     "name": "stderr",
     "output_type": "stream",
     "text": [
      " * Running on http://127.0.0.1:8050/ (Press CTRL+C to quit)\n",
      "127.0.0.1 - - [10/May/2020 21:44:24] \"\u001b[37mGET / HTTP/1.1\u001b[0m\" 200 -\n",
      "127.0.0.1 - - [10/May/2020 21:44:24] \"\u001b[37mGET /_dash-layout HTTP/1.1\u001b[0m\" 200 -\n",
      "127.0.0.1 - - [10/May/2020 21:44:24] \"\u001b[37mGET /_dash-dependencies HTTP/1.1\u001b[0m\" 200 -\n",
      "127.0.0.1 - - [10/May/2020 21:44:24] \"\u001b[37mGET /_dash-component-suites/dash_core_components/async-plotlyjs.v1_10_0m1588696753.js HTTP/1.1\u001b[0m\" 200 -\n",
      "127.0.0.1 - - [10/May/2020 21:44:24] \"\u001b[37mPOST /_dash-update-component HTTP/1.1\u001b[0m\" 200 -\n",
      "127.0.0.1 - - [10/May/2020 21:44:26] \"\u001b[37mPOST /_dash-update-component HTTP/1.1\u001b[0m\" 200 -\n",
      "127.0.0.1 - - [10/May/2020 21:44:30] \"\u001b[37mPOST /_dash-update-component HTTP/1.1\u001b[0m\" 200 -\n",
      "127.0.0.1 - - [10/May/2020 21:44:30] \"\u001b[37mPOST /_dash-update-component HTTP/1.1\u001b[0m\" 200 -\n",
      "127.0.0.1 - - [10/May/2020 21:44:36] \"\u001b[37mPOST /_dash-update-component HTTP/1.1\u001b[0m\" 200 -\n",
      "127.0.0.1 - - [10/May/2020 21:44:36] \"\u001b[37mPOST /_dash-update-component HTTP/1.1\u001b[0m\" 200 -\n",
      "127.0.0.1 - - [10/May/2020 21:44:42] \"\u001b[37mPOST /_dash-update-component HTTP/1.1\u001b[0m\" 200 -\n",
      "127.0.0.1 - - [10/May/2020 21:44:43] \"\u001b[37mPOST /_dash-update-component HTTP/1.1\u001b[0m\" 200 -\n",
      "127.0.0.1 - - [10/May/2020 21:44:48] \"\u001b[37mPOST /_dash-update-component HTTP/1.1\u001b[0m\" 200 -\n",
      "127.0.0.1 - - [10/May/2020 21:44:48] \"\u001b[37mPOST /_dash-update-component HTTP/1.1\u001b[0m\" 200 -\n",
      "127.0.0.1 - - [10/May/2020 21:44:54] \"\u001b[37mPOST /_dash-update-component HTTP/1.1\u001b[0m\" 200 -\n",
      "127.0.0.1 - - [10/May/2020 21:44:54] \"\u001b[37mPOST /_dash-update-component HTTP/1.1\u001b[0m\" 200 -\n"
     ]
    }
   ],
   "source": [
    "app.run_server()"
   ]
  },
  {
   "cell_type": "code",
   "execution_count": null,
   "metadata": {},
   "outputs": [],
   "source": []
  },
  {
   "cell_type": "code",
   "execution_count": null,
   "metadata": {},
   "outputs": [],
   "source": []
  },
  {
   "cell_type": "code",
   "execution_count": null,
   "metadata": {},
   "outputs": [],
   "source": []
  },
  {
   "cell_type": "code",
   "execution_count": null,
   "metadata": {},
   "outputs": [],
   "source": []
  },
  {
   "cell_type": "code",
   "execution_count": null,
   "metadata": {},
   "outputs": [],
   "source": [
    "#######\n",
    "# This script will make regular API calls to http://data-live.flightradar24.com\n",
    "# to obtain updated total worldwide flights data.\n",
    "# ** This version continuously updates the number of flights worldwide,\n",
    "#    AND GRAPHS THOSE RESULTS OVER TIME! **\n",
    "######\n",
    "import dash\n",
    "import dash_core_components as dcc\n",
    "import dash_html_components as html\n",
    "from dash.dependencies import Input, Output\n",
    "import plotly.graph_objs as go\n",
    "import requests\n",
    "\n",
    "app = dash.Dash()"
   ]
  },
  {
   "cell_type": "code",
   "execution_count": null,
   "metadata": {},
   "outputs": [],
   "source": [
    "app.layout = html.Div([\n",
    "    html.Div([\n",
    "        html.Iframe(src = 'https://www.flightradar24.com', height = 500, width = 1200)\n",
    "    ]),\n",
    "\n",
    "    html.Div([\n",
    "    html.Pre(\n",
    "        id='counter_text',\n",
    "        children='Active flights worldwide:'\n",
    "    ),\n",
    "    dcc.Graph(id='live-update-graph',style={'width':1200}),\n",
    "    dcc.Interval(\n",
    "        id='interval-component',\n",
    "        interval=6000, # 6000 milliseconds = 6 seconds\n",
    "        n_intervals=0\n",
    "    )])\n",
    "])"
   ]
  },
  {
   "cell_type": "code",
   "execution_count": null,
   "metadata": {},
   "outputs": [],
   "source": [
    "counter_list = []\n",
    "\n",
    "@app.callback(Output('counter_text', 'children'),\n",
    "              [Input('interval-component', 'n_intervals')])\n",
    "def update_layout(n):\n",
    "    url = \"https://data-live.flightradar24.com/zones/fcgi/feed.js?faa=1\\\n",
    "           &mlat=1&flarm=1&adsb=1&gnd=1&air=1&vehicles=1&estimated=1&stats=1\"\n",
    "    # A fake header is necessary to access the site:\n",
    "    res = requests.get(url, headers={'User-Agent': 'Mozilla/5.0'})\n",
    "    data = res.json()\n",
    "    counter = 0\n",
    "    for element in data[\"stats\"][\"total\"]:\n",
    "        counter += data[\"stats\"][\"total\"][element]\n",
    "    counter_list.append(counter)\n",
    "    return 'Active flights worldwide: {}'.format(counter)"
   ]
  },
  {
   "cell_type": "code",
   "execution_count": null,
   "metadata": {},
   "outputs": [],
   "source": [
    "@app.callback(Output('live-update-graph','figure'),\n",
    "              [Input('interval-component', 'n_intervals')])\n",
    "def update_graph(n):\n",
    "    fig = go.Figure(\n",
    "        data = [go.Scatter(\n",
    "        x = list(range(len(counter_list))),\n",
    "        y = counter_list,\n",
    "        mode='lines+markers'\n",
    "        )])\n",
    "    return fig"
   ]
  },
  {
   "cell_type": "code",
   "execution_count": null,
   "metadata": {},
   "outputs": [],
   "source": [
    "app.run_server()"
   ]
  }
 ],
 "metadata": {
  "kernelspec": {
   "display_name": "Python 3",
   "language": "python",
   "name": "python3"
  },
  "language_info": {
   "codemirror_mode": {
    "name": "ipython",
    "version": 3
   },
   "file_extension": ".py",
   "mimetype": "text/x-python",
   "name": "python",
   "nbconvert_exporter": "python",
   "pygments_lexer": "ipython3",
   "version": "3.8.2"
  }
 },
 "nbformat": 4,
 "nbformat_minor": 4
}
