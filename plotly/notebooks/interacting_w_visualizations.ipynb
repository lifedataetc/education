{
 "cells": [
  {
   "cell_type": "code",
   "execution_count": null,
   "metadata": {},
   "outputs": [],
   "source": [
    "#######\n",
    "# This makes a 3x3 scatterplot of wheels.csv, and sends\n",
    "# the result of hover to the screen as a JSON object.\n",
    "######\n",
    "import dash\n",
    "import dash_core_components as dcc\n",
    "import dash_html_components as html\n",
    "from dash.dependencies import Input, Output\n",
    "import plotly.graph_objs as go\n",
    "import pandas as pd\n",
    "import json\n",
    "import base64"
   ]
  },
  {
   "cell_type": "code",
   "execution_count": null,
   "metadata": {},
   "outputs": [],
   "source": [
    "app = dash.Dash()\n",
    "\n",
    "df = pd.read_csv('../Plotly-Dashboards-with-Dash/Data/wheels.csv')"
   ]
  },
  {
   "cell_type": "code",
   "execution_count": null,
   "metadata": {},
   "outputs": [],
   "source": [
    "df"
   ]
  },
  {
   "cell_type": "code",
   "execution_count": null,
   "metadata": {},
   "outputs": [],
   "source": [
    "app.layout = html.Div([\n",
    "    \n",
    "    html.Div(dcc.Graph(id='wheels-plot',\n",
    "                       figure={'data':[go.Scatter(x=df['color'],\n",
    "                                                    y=df['wheels'],\n",
    "                                                    dy=1,\n",
    "                                                    mode='markers',\n",
    "                                                    marker={'size':15})],\n",
    "                               'layout':go.Layout(title='Test',hovermode='closest')}\n",
    "    \n",
    "        \n",
    "    )),\n",
    "    \n",
    "    html.Div(html.Pre(id='hover-data',style={'paddingTop':35}),\n",
    "            style={'width':'30%'})\n",
    "    \n",
    "],style={'width':'30%', 'float':'left'})"
   ]
  },
  {
   "cell_type": "code",
   "execution_count": null,
   "metadata": {},
   "outputs": [],
   "source": [
    "@app.callback(\n",
    "    Output('hover-data', 'children'),\n",
    "    [Input('wheels-plot', 'hoverData')])\n",
    "def callback_image(hoverData):\n",
    "    return json.dumps(hoverData, indent=2)"
   ]
  },
  {
   "cell_type": "code",
   "execution_count": null,
   "metadata": {},
   "outputs": [],
   "source": [
    "def encode_image(image_file):\n",
    "    encoded = base64.b64encode(open(image_file, 'rb').read())\n",
    "    return 'data:image/png;base64,{}'.format(encoded.decode())\n",
    "\n",
    "app.layout = html.Div([\n",
    "    html.Div([\n",
    "    dcc.Graph(\n",
    "        id='wheels-plot',\n",
    "        figure={\n",
    "            'data': [\n",
    "                go.Scatter(\n",
    "                    x = df['color'],\n",
    "                    y = df['wheels'],\n",
    "                    dy = 1,\n",
    "                    mode = 'markers',\n",
    "                    marker = {\n",
    "                        'size': 12,\n",
    "                        'color': 'rgb(51,204,153)',\n",
    "                        'line': {'width': 2}\n",
    "                        }\n",
    "                )\n",
    "            ],\n",
    "            'layout': go.Layout(\n",
    "                title = 'Wheels & Colors Scatterplot',\n",
    "                xaxis = {'title': 'Color'},\n",
    "                yaxis = {'title': '# of Wheels','nticks':3},\n",
    "                hovermode='closest'\n",
    "            )\n",
    "        }\n",
    "    )], style={'width':'30%', 'float':'left'}),\n",
    "\n",
    "    html.Div([\n",
    "    html.Img(id='hover-image', src='children', height=300)\n",
    "    ], style={'paddingTop':35})\n",
    "])\n",
    "\n",
    "@app.callback(\n",
    "    Output('hover-image', 'src'),\n",
    "    [Input('wheels-plot', 'hoverData')])\n",
    "def callback_image(hoverData):\n",
    "    \n",
    "    \n",
    "    wheel=hoverData['points'][0]['y']\n",
    "    color=hoverData['points'][0]['x']\n",
    "    path = '/home/mandeep/workspace/learning/plotly/udemy/Plotly-Dashboards-with-Dash/Data/Images/'\n",
    "    return encode_image(path+df[(df['wheels']==wheel) & (df['color']==color)]['image'].values[0])"
   ]
  },
  {
   "cell_type": "code",
   "execution_count": null,
   "metadata": {},
   "outputs": [],
   "source": [
    "app.run_server(host= '0.0.0.0')"
   ]
  },
  {
   "cell_type": "markdown",
   "metadata": {},
   "source": [
    "### Click Data"
   ]
  },
  {
   "cell_type": "code",
   "execution_count": null,
   "metadata": {},
   "outputs": [],
   "source": [
    "app = dash.Dash()\n"
   ]
  },
  {
   "cell_type": "code",
   "execution_count": null,
   "metadata": {},
   "outputs": [],
   "source": [
    "def encode_image(image_file):\n",
    "    encoded = base64.b64encode(open(image_file, 'rb').read())\n",
    "    return 'data:image/png;base64,{}'.format(encoded.decode())\n",
    "\n",
    "app.layout = html.Div([\n",
    "    html.Div([\n",
    "    dcc.Graph(\n",
    "        id='wheels-plot',\n",
    "        figure={\n",
    "            'data': [\n",
    "                go.Scatter(\n",
    "                    x = df['color'],\n",
    "                    y = df['wheels'],\n",
    "                    dy = 1,\n",
    "                    mode = 'markers',\n",
    "                    marker = {\n",
    "                        'size': 12,\n",
    "                        'color': 'rgb(51,204,153)',\n",
    "                        'line': {'width': 2}\n",
    "                        }\n",
    "                )\n",
    "            ],\n",
    "            'layout': go.Layout(\n",
    "                title = 'Wheels & Colors Scatterplot',\n",
    "                xaxis = {'title': 'Color'},\n",
    "                yaxis = {'title': '# of Wheels','nticks':3},\n",
    "                hovermode='closest'\n",
    "            )\n",
    "        }\n",
    "    )], style={'width':'30%', 'float':'left'}),\n",
    "\n",
    "    html.Div([\n",
    "    html.Img(id='hover-image', src='children', height=300)\n",
    "    ], style={'paddingTop':35})\n",
    "])\n",
    "\n",
    "@app.callback(\n",
    "    Output('hover-image', 'src'),\n",
    "    [Input('wheels-plot', 'clickData')])\n",
    "def callback_image(hoverData):\n",
    "    \n",
    "    \n",
    "    wheel=hoverData['points'][0]['y']\n",
    "    color=hoverData['points'][0]['x']\n",
    "    path = '/home/mandeep/workspace/learning/plotly/udemy/Plotly-Dashboards-with-Dash/Data/Images/'\n",
    "    return encode_image(path+df[(df['wheels']==wheel) & (df['color']==color)]['image'].values[0])"
   ]
  },
  {
   "cell_type": "code",
   "execution_count": null,
   "metadata": {},
   "outputs": [],
   "source": [
    "app.run_server(host= '0.0.0.0')"
   ]
  },
  {
   "cell_type": "markdown",
   "metadata": {},
   "source": [
    "## Selected Data"
   ]
  },
  {
   "cell_type": "code",
   "execution_count": 1,
   "metadata": {},
   "outputs": [],
   "source": [
    "import dash\n",
    "import dash_core_components as dcc\n",
    "import dash_html_components as html\n",
    "from dash.dependencies import Input, Output\n",
    "import plotly.graph_objs as go\n",
    "import numpy as np\n",
    "import pandas as pd"
   ]
  },
  {
   "cell_type": "code",
   "execution_count": 2,
   "metadata": {},
   "outputs": [],
   "source": [
    "app = dash.Dash()\n",
    "\n",
    "# create x and y arrays\n",
    "np.random.seed(10)          # for reproducible results\n",
    "x1 = np.linspace(0.1,5,50)  # left half\n",
    "x2 = np.linspace(5.1,10,50) # right half\n",
    "y = np.random.randint(0,50,50) # 50 random points\n",
    "\n",
    "# create three \"half DataFrames\"\n",
    "df1 = pd.DataFrame({'x': x1, 'y': y})\n",
    "df2 = pd.DataFrame({'x': x1, 'y': y})\n",
    "df3 = pd.DataFrame({'x': x2, 'y': y})\n",
    "\n",
    "# combine them into one DataFrame (df1 and df2 points overlap!)\n",
    "df = pd.concat([df1,df2,df3])"
   ]
  },
  {
   "cell_type": "code",
   "execution_count": 3,
   "metadata": {},
   "outputs": [],
   "source": [
    "app.layout = html.Div([\n",
    "    html.Div([\n",
    "    dcc.Graph(\n",
    "        id='plot',\n",
    "        figure={\n",
    "            'data': [\n",
    "                go.Scatter(\n",
    "                    x = df['x'],\n",
    "                    y = df['y'],\n",
    "                    mode = 'markers'\n",
    "                )\n",
    "            ],\n",
    "            'layout': go.Layout(\n",
    "                title = 'Random Scatterplot',\n",
    "                hovermode='closest'\n",
    "            )\n",
    "        }\n",
    "    )], style={'width':'80%', 'display':'inline-block'}),\n",
    "\n",
    "    html.Div([\n",
    "    html.H1(id='density', style={'paddingTop':25})\n",
    "    ], style={'width':'30%', 'verticalAlign':'top'})\n",
    "])"
   ]
  },
  {
   "cell_type": "code",
   "execution_count": 4,
   "metadata": {},
   "outputs": [],
   "source": [
    "@app.callback(\n",
    "    Output('density', 'children'),\n",
    "    [Input('plot', 'selectedData')])\n",
    "def find_density(selectedData):\n",
    "    print(selectedData)\n",
    "    pts = len(selectedData['points'])\n",
    "    rng_or_lp = list(selectedData.keys())\n",
    "    rng_or_lp.remove('points')\n",
    "    max_x = max(selectedData[rng_or_lp[0]]['x'])\n",
    "    min_x = min(selectedData[rng_or_lp[0]]['x'])\n",
    "    max_y = max(selectedData[rng_or_lp[0]]['y'])\n",
    "    min_y = min(selectedData[rng_or_lp[0]]['y'])\n",
    "    area = (max_x-min_x)*(max_y-min_y)\n",
    "    d = pts/area\n",
    "    return 'Density = {:.2f}'.format(d)"
   ]
  },
  {
   "cell_type": "code",
   "execution_count": null,
   "metadata": {},
   "outputs": [],
   "source": [
    "app.run_server(host='0.0.0.0')"
   ]
  },
  {
   "cell_type": "code",
   "execution_count": 6,
   "metadata": {},
   "outputs": [],
   "source": [
    "test = {'points': [{'curveNumber': 0, 'pointNumber': 36, 'pointIndex': 36, 'x': 3.7, 'y': 30}, {'curveNumber': 0, 'pointNumber': 37, 'pointIndex': 37, 'x': 3.8000000000000003, 'y': 25}, {'curveNumber': 0, 'pointNumber': 40, 'pointIndex': 40, 'x': 4.1, 'y': 31}, {'curveNumber': 0, 'pointNumber': 42, 'pointIndex': 42, 'x': 4.3, 'y': 27}, {'curveNumber': 0, 'pointNumber': 43, 'pointIndex': 43, 'x': 4.3999999999999995, 'y': 18}, {'curveNumber': 0, 'pointNumber': 44, 'pointIndex': 44, 'x': 4.5, 'y': 29}, {'curveNumber': 0, 'pointNumber': 46, 'pointIndex': 46, 'x': 4.7, 'y': 22}, {'curveNumber': 0, 'pointNumber': 47, 'pointIndex': 47, 'x': 4.8, 'y': 23}, {'curveNumber': 0, 'pointNumber': 86, 'pointIndex': 86, 'x': 3.7, 'y': 30}, {'curveNumber': 0, 'pointNumber': 87, 'pointIndex': 87, 'x': 3.8000000000000003, 'y': 25}, {'curveNumber': 0, 'pointNumber': 90, 'pointIndex': 90, 'x': 4.1, 'y': 31}, {'curveNumber': 0, 'pointNumber': 92, 'pointIndex': 92, 'x': 4.3, 'y': 27}, {'curveNumber': 0, 'pointNumber': 93, 'pointIndex': 93, 'x': 4.3999999999999995, 'y': 18}, {'curveNumber': 0, 'pointNumber': 94, 'pointIndex': 94, 'x': 4.5, 'y': 29}, {'curveNumber': 0, 'pointNumber': 96, 'pointIndex': 96, 'x': 4.7, 'y': 22}, {'curveNumber': 0, 'pointNumber': 97, 'pointIndex': 97, 'x': 4.8, 'y': 23}], 'range': {'x': [3.627427455357143, 4.824414062500001], 'y': [16.38535031847134, 34.07112526539278]}}"
   ]
  },
  {
   "cell_type": "code",
   "execution_count": 10,
   "metadata": {},
   "outputs": [],
   "source": [
    "laso_test = {'points': [{'curveNumber': 0, 'pointNumber': 33, 'pointIndex': 33, 'x': 3.4000000000000004, 'y': 28}, {'curveNumber': 0, 'pointNumber': 34, 'pointIndex': 34, 'x': 3.5000000000000004, 'y': 22}, {'curveNumber': 0, 'pointNumber': 35, 'pointIndex': 35, 'x': 3.6, 'y': 30}, {'curveNumber': 0, 'pointNumber': 36, 'pointIndex': 36, 'x': 3.7, 'y': 30}, {'curveNumber': 0, 'pointNumber': 37, 'pointIndex': 37, 'x': 3.8000000000000003, 'y': 25}, {'curveNumber': 0, 'pointNumber': 40, 'pointIndex': 40, 'x': 4.1, 'y': 31}, {'curveNumber': 0, 'pointNumber': 42, 'pointIndex': 42, 'x': 4.3, 'y': 27}, {'curveNumber': 0, 'pointNumber': 43, 'pointIndex': 43, 'x': 4.3999999999999995, 'y': 18}, {'curveNumber': 0, 'pointNumber': 44, 'pointIndex': 44, 'x': 4.5, 'y': 29}, {'curveNumber': 0, 'pointNumber': 45, 'pointIndex': 45, 'x': 4.6, 'y': 13}, {'curveNumber': 0, 'pointNumber': 46, 'pointIndex': 46, 'x': 4.7, 'y': 22}, {'curveNumber': 0, 'pointNumber': 47, 'pointIndex': 47, 'x': 4.8, 'y': 23}, {'curveNumber': 0, 'pointNumber': 48, 'pointIndex': 48, 'x': 4.9, 'y': 30}, {'curveNumber': 0, 'pointNumber': 49, 'pointIndex': 49, 'x': 5, 'y': 11}, {'curveNumber': 0, 'pointNumber': 83, 'pointIndex': 83, 'x': 3.4000000000000004, 'y': 28}, {'curveNumber': 0, 'pointNumber': 84, 'pointIndex': 84, 'x': 3.5000000000000004, 'y': 22}, {'curveNumber': 0, 'pointNumber': 85, 'pointIndex': 85, 'x': 3.6, 'y': 30}, {'curveNumber': 0, 'pointNumber': 86, 'pointIndex': 86, 'x': 3.7, 'y': 30}, {'curveNumber': 0, 'pointNumber': 87, 'pointIndex': 87, 'x': 3.8000000000000003, 'y': 25}, {'curveNumber': 0, 'pointNumber': 90, 'pointIndex': 90, 'x': 4.1, 'y': 31}, {'curveNumber': 0, 'pointNumber': 92, 'pointIndex': 92, 'x': 4.3, 'y': 27}, {'curveNumber': 0, 'pointNumber': 93, 'pointIndex': 93, 'x': 4.3999999999999995, 'y': 18}, {'curveNumber': 0, 'pointNumber': 94, 'pointIndex': 94, 'x': 4.5, 'y': 29}, {'curveNumber': 0, 'pointNumber': 95, 'pointIndex': 95, 'x': 4.6, 'y': 13}, {'curveNumber': 0, 'pointNumber': 96, 'pointIndex': 96, 'x': 4.7, 'y': 22}, {'curveNumber': 0, 'pointNumber': 97, 'pointIndex': 97, 'x': 4.8, 'y': 23}, {'curveNumber': 0, 'pointNumber': 98, 'pointIndex': 98, 'x': 4.9, 'y': 30}, {'curveNumber': 0, 'pointNumber': 99, 'pointIndex': 99, 'x': 5, 'y': 11}, {'curveNumber': 0, 'pointNumber': 102, 'pointIndex': 102, 'x': 5.3, 'y': 15}], 'lassoPoints': {'x': [3.6826729910714286, 4.557393973214286, 5.0361886160714295, 5.257170758928572, 5.413699776785715, 5.505775669642858, 5.524190848214286, 5.4873604910714295, 5.330831473214286, 5.045396205357144, 4.723130580357144, 4.391657366071429, 3.627427455357143, 3.397237723214286, 3.3235770089285714, 3.3419921875000003, 3.461690848214286, 3.461690848214286], 'y': [32.82271762208068, 34.07112526539278, 33.238853503184714, 31.782377919320595, 29.285562632696394, 24.291932059447984, 18.882165605095544, 15.969214437367304, 12.223991507430998, 9.519108280254777, 8.686836518046709, 9.519108280254777, 14.92887473460722, 17.00955414012739, 19.506369426751593, 24.291932059447984, 31.990445859872615, 32.82271762208068]}}"
   ]
  },
  {
   "cell_type": "code",
   "execution_count": 11,
   "metadata": {},
   "outputs": [],
   "source": [
    "from pprint import pprint"
   ]
  },
  {
   "cell_type": "markdown",
   "metadata": {},
   "source": [
    "#### format of selectedData"
   ]
  },
  {
   "cell_type": "code",
   "execution_count": null,
   "metadata": {},
   "outputs": [],
   "source": [
    "pprint(test)"
   ]
  },
  {
   "cell_type": "code",
   "execution_count": null,
   "metadata": {},
   "outputs": [],
   "source": [
    "pprint(laso_test)"
   ]
  }
 ],
 "metadata": {
  "kernelspec": {
   "display_name": "Python 3",
   "language": "python",
   "name": "python3"
  },
  "language_info": {
   "codemirror_mode": {
    "name": "ipython",
    "version": 3
   },
   "file_extension": ".py",
   "mimetype": "text/x-python",
   "name": "python",
   "nbconvert_exporter": "python",
   "pygments_lexer": "ipython3",
   "version": "3.8.2"
  }
 },
 "nbformat": 4,
 "nbformat_minor": 4
}
