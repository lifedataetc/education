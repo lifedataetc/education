{
 "cells": [
  {
   "cell_type": "markdown",
   "metadata": {},
   "source": [
    "## Single Callback for Interactivity"
   ]
  },
  {
   "cell_type": "code",
   "execution_count": null,
   "metadata": {},
   "outputs": [],
   "source": [
    "import dash\n",
    "import dash_core_components as dcc\n",
    "import dash_html_components as html\n",
    "from dash.dependencies import Input, Output"
   ]
  },
  {
   "cell_type": "code",
   "execution_count": null,
   "metadata": {},
   "outputs": [],
   "source": [
    "app = dash.Dash()"
   ]
  },
  {
   "cell_type": "code",
   "execution_count": null,
   "metadata": {},
   "outputs": [],
   "source": [
    "app.layout = html.Div([\n",
    "    \n",
    "    dcc.Input(id='in-id1',value='Init text',type='text'),\n",
    "    html.Div([html.P()],id='div-id1',style={'border':'2px blue solid'})\n",
    "    \n",
    "    \n",
    "])\n",
    "\n",
    "@app.callback(Output(component_id='div-id1',component_property='children'),\n",
    "              [Input(component_id='in-id1',component_property='value')])\n",
    "def update_output_div(in_val):\n",
    "    return('{} me?'.format(in_val) + ' Well {} you too!'.format(in_val))"
   ]
  },
  {
   "cell_type": "code",
   "execution_count": null,
   "metadata": {},
   "outputs": [],
   "source": [
    "app.run_server()"
   ]
  },
  {
   "cell_type": "markdown",
   "metadata": {},
   "source": [
    "### Callbacks for Graphs"
   ]
  },
  {
   "cell_type": "code",
   "execution_count": null,
   "metadata": {},
   "outputs": [],
   "source": [
    "import dash\n",
    "import dash_core_components as dcc\n",
    "import dash_html_components as html\n",
    "from dash.dependencies import Input, Output\n",
    "import plotly.graph_objs as go\n",
    "import plotly.offline as pyo\n",
    "import pandas as pd"
   ]
  },
  {
   "cell_type": "code",
   "execution_count": null,
   "metadata": {},
   "outputs": [],
   "source": [
    "df = pd.read_csv('../Plotly-Dashboards-with-Dash/Data/gapminderDataFiveYear.csv')"
   ]
  },
  {
   "cell_type": "code",
   "execution_count": null,
   "metadata": {},
   "outputs": [],
   "source": [
    "countries = list(map(lambda x: {'label':str(x),'value':x},df['country'].unique()))"
   ]
  },
  {
   "cell_type": "code",
   "execution_count": null,
   "metadata": {},
   "outputs": [],
   "source": [
    "app = dash.Dash()"
   ]
  },
  {
   "cell_type": "code",
   "execution_count": null,
   "metadata": {},
   "outputs": [],
   "source": [
    "app.layout = html.Div([\n",
    "    dcc.Graph(id='graph'),\n",
    "    dcc.Dropdown(id='con-picker',options = countries,value=['United States'],multi=True)\n",
    "])"
   ]
  },
  {
   "cell_type": "raw",
   "metadata": {},
   "source": [
    "sub_df = df[df['country'].isin(['United States'])]"
   ]
  },
  {
   "cell_type": "raw",
   "metadata": {},
   "source": [
    "traces = []\n",
    "for each in sub_df['continent'].unique():\n",
    "    temp = sub_df[sub_df['continent']==each]\n",
    "\n",
    "    traces.append(go.Scattergl(\n",
    "        x=temp['year'],\n",
    "        y=temp['lifeExp'],\n",
    "        mode='lines',\n",
    "        opacity=0.7,\n",
    "        name=each\n",
    "    ))\n",
    "\n",
    "fig = go.Figure({'data':traces,\n",
    "            'layout':go.Layout(\n",
    "                               xaxis={'title':'GDP Per Cap'},\n",
    "                               yaxis={'title':'Life Expentancy'})})"
   ]
  },
  {
   "cell_type": "raw",
   "metadata": {},
   "source": [
    "pyo.plot(fig)"
   ]
  },
  {
   "cell_type": "code",
   "execution_count": null,
   "metadata": {},
   "outputs": [],
   "source": [
    "@app.callback(Output('graph','figure'),\n",
    "              [Input('con-picker','value')])\n",
    "def update_figure(values):\n",
    "    sub_df = df[df['country'].isin(values)]\n",
    "    \n",
    "    traces = []\n",
    "    for each in sub_df['country'].unique():\n",
    "        temp = sub_df[sub_df['country']==each]\n",
    "\n",
    "        traces.append(go.Scattergl(\n",
    "                            x=temp['year'],\n",
    "                            y=temp['lifeExp'],\n",
    "                            mode='lines',\n",
    "                            opacity=0.7,\n",
    "                            name=each\n",
    "                        ))\n",
    "    \n",
    "    return({'data':traces,\n",
    "            'layout':go.Layout(\n",
    "                               xaxis={'title':'Year'},\n",
    "                               yaxis={'title':'Life Expentancy'})})"
   ]
  },
  {
   "cell_type": "code",
   "execution_count": null,
   "metadata": {},
   "outputs": [],
   "source": [
    "app.run_server()"
   ]
  },
  {
   "cell_type": "markdown",
   "metadata": {},
   "source": [
    "### Multiple Inputs"
   ]
  },
  {
   "cell_type": "code",
   "execution_count": null,
   "metadata": {},
   "outputs": [],
   "source": [
    "import dash\n",
    "import dash_core_components as dcc\n",
    "import dash_html_components as html\n",
    "from dash.dependencies import Input, Output\n",
    "import plotly.graph_objs as go\n",
    "import plotly.offline as pyo\n",
    "import pandas as pd"
   ]
  },
  {
   "cell_type": "code",
   "execution_count": null,
   "metadata": {},
   "outputs": [],
   "source": [
    "df = pd.read_csv('../Plotly-Dashboards-with-Dash/Data/mpg.csv')"
   ]
  },
  {
   "cell_type": "code",
   "execution_count": null,
   "metadata": {},
   "outputs": [],
   "source": [
    "app = dash.Dash()"
   ]
  },
  {
   "cell_type": "code",
   "execution_count": null,
   "metadata": {},
   "outputs": [],
   "source": [
    "features = df.columns"
   ]
  },
  {
   "cell_type": "code",
   "execution_count": null,
   "metadata": {},
   "outputs": [],
   "source": [
    "app.layout = html.Div([\n",
    "    \n",
    "    html.Div(['x-axis',\n",
    "        dcc.Dropdown(id='xaxis',\n",
    "                     options=list(map(lambda x: {'label':str(x),'value':x},features)),\n",
    "                     value='mpg')\n",
    "    ],\n",
    "        style={'width':'40%','display':'inline-block'}),\n",
    "    \n",
    "    html.Div(['y-axis',\n",
    "        dcc.Dropdown(id='yaxis',\n",
    "                     options=list(map(lambda x: {'label':str(x),'value':x},features)),\n",
    "                     value='weight')\n",
    "    ],\n",
    "        style={'width':'40%','display':'inline-block'}),\n",
    "    \n",
    "    html.Div([\n",
    "        dcc.Graph(id='feature_graph')\n",
    "    ])\n",
    "    \n",
    "],\n",
    "        style={'padding':10})"
   ]
  },
  {
   "cell_type": "code",
   "execution_count": null,
   "metadata": {},
   "outputs": [],
   "source": [
    "@app.callback(Output('feature_graph','figure'),\n",
    "              [Input('xaxis','value'),\n",
    "               Input('yaxis','value')])\n",
    "def update_graph(xaxis_name,yaxis_name):\n",
    "    \n",
    "    figure_dict = {'data':\n",
    "                   [\n",
    "                       go.Scattergl(x=df[xaxis_name],\n",
    "                                    y=df[yaxis_name],\n",
    "                                    mode='markers',\n",
    "                                    text=df['name'],\n",
    "                                    opacity=0.7,\n",
    "                                    marker={'size':15}\n",
    "                                    )\n",
    "                   ]\n",
    "                   ,\n",
    "                   'layout':go.Layout(xaxis={'title':xaxis_name},yaxis={'title':yaxis_name},\n",
    "                                      hovermode='closest')}\n",
    "    return(figure_dict)"
   ]
  },
  {
   "cell_type": "code",
   "execution_count": null,
   "metadata": {},
   "outputs": [],
   "source": [
    "app.run_server()"
   ]
  },
  {
   "cell_type": "markdown",
   "metadata": {},
   "source": [
    "### Multiple Outputs"
   ]
  },
  {
   "cell_type": "code",
   "execution_count": null,
   "metadata": {},
   "outputs": [],
   "source": [
    "import dash\n",
    "import dash_core_components as dcc\n",
    "import dash_html_components as html\n",
    "from dash.dependencies import Input, Output\n",
    "import plotly.graph_objs as go\n",
    "import plotly.offline as pyo\n",
    "import pandas as pd\n",
    "import base64"
   ]
  },
  {
   "cell_type": "code",
   "execution_count": null,
   "metadata": {},
   "outputs": [],
   "source": [
    "df = pd.read_csv('../Plotly-Dashboards-with-Dash/Data/wheels.csv')\n",
    "\n",
    "app = dash.Dash()\n",
    "\n",
    "# prep image\n",
    "def encode_image(image_file):\n",
    "    encoded = base64.b64encode(open(image_file,'rb').read())\n",
    "    return('data:image/png;base64,{}'.format(encoded.decode()))"
   ]
  },
  {
   "cell_type": "code",
   "execution_count": null,
   "metadata": {},
   "outputs": [],
   "source": [
    "app.layout = html.Div([\n",
    "    dcc.RadioItems(\n",
    "        id='wheels',\n",
    "        options=[{'label': i, 'value': i} for i in df['wheels'].unique()],\n",
    "        value=1\n",
    "    ),\n",
    "    html.Div(id='wheels-output'),\n",
    "\n",
    "    html.Hr(),  # add a horizontal rule\n",
    "    dcc.RadioItems(\n",
    "        id='colors',\n",
    "        options=[{'label': i, 'value': i} for i in df['color'].unique()],\n",
    "        value='blue'\n",
    "    ),\n",
    "    html.Div(id='colors-output'),\n",
    "    html.Img(id='display-image', src='children', height=300)\n",
    "], style={'fontFamily':'helvetica', 'fontSize':18})"
   ]
  },
  {
   "cell_type": "code",
   "execution_count": null,
   "metadata": {},
   "outputs": [],
   "source": [
    "@app.callback(\n",
    "    Output('wheels-output', 'children'),\n",
    "    [Input('wheels', 'value')])\n",
    "def callback_a(wheels_value):\n",
    "    return 'You\\'ve selected \"{}\"'.format(wheels_value)\n",
    "\n",
    "@app.callback(\n",
    "    Output('colors-output', 'children'),\n",
    "    [Input('colors', 'value')])\n",
    "def callback_b(colors_value):\n",
    "    return 'You\\'ve selected \"{}\"'.format(colors_value)\n",
    "\n",
    "@app.callback(\n",
    "    Output('display-image', 'src'),\n",
    "    [Input('wheels', 'value'),\n",
    "     Input('colors', 'value')])\n",
    "def callback_image(wheel, color):\n",
    "    path = '/home/mandeep/workspace/learning/plotly/udemy/Plotly-Dashboards-with-Dash/Data/Images/'\n",
    "    temp = encode_image(path+df[(df['wheels']==wheel) & (df['color']==color)]['image'].values[0])\n",
    "    return(temp)"
   ]
  },
  {
   "cell_type": "code",
   "execution_count": null,
   "metadata": {},
   "outputs": [],
   "source": [
    "app.run_server()"
   ]
  }
 ],
 "metadata": {
  "kernelspec": {
   "display_name": "Python 3",
   "language": "python",
   "name": "python3"
  },
  "language_info": {
   "codemirror_mode": {
    "name": "ipython",
    "version": 3
   },
   "file_extension": ".py",
   "mimetype": "text/x-python",
   "name": "python",
   "nbconvert_exporter": "python",
   "pygments_lexer": "ipython3",
   "version": "3.7.7"
  },
  "toc-autonumbering": false,
  "toc-showmarkdowntxt": true,
  "toc-showtags": false
 },
 "nbformat": 4,
 "nbformat_minor": 4
}
