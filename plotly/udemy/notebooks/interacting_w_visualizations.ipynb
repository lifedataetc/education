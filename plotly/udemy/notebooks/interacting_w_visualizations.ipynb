{
 "cells": [
  {
   "cell_type": "code",
   "execution_count": 1,
   "metadata": {},
   "outputs": [],
   "source": [
    "#######\n",
    "# This makes a 3x3 scatterplot of wheels.csv, and sends\n",
    "# the result of hover to the screen as a JSON object.\n",
    "######\n",
    "import dash\n",
    "import dash_core_components as dcc\n",
    "import dash_html_components as html\n",
    "from dash.dependencies import Input, Output\n",
    "import plotly.graph_objs as go\n",
    "import pandas as pd\n",
    "import json\n",
    "import base64"
   ]
  },
  {
   "cell_type": "code",
   "execution_count": 2,
   "metadata": {},
   "outputs": [],
   "source": [
    "app = dash.Dash()\n",
    "\n",
    "df = pd.read_csv('../Plotly-Dashboards-with-Dash/Data/wheels.csv')"
   ]
  },
  {
   "cell_type": "code",
   "execution_count": null,
   "metadata": {},
   "outputs": [],
   "source": [
    "df"
   ]
  },
  {
   "cell_type": "code",
   "execution_count": null,
   "metadata": {},
   "outputs": [],
   "source": [
    "app.layout = html.Div([\n",
    "    \n",
    "    html.Div(dcc.Graph(id='wheels-plot',\n",
    "                       figure={'data':[go.Scatter(x=df['color'],\n",
    "                                                    y=df['wheels'],\n",
    "                                                    dy=1,\n",
    "                                                    mode='markers',\n",
    "                                                    marker={'size':15})],\n",
    "                               'layout':go.Layout(title='Test',hovermode='closest')}\n",
    "    \n",
    "        \n",
    "    )),\n",
    "    \n",
    "    html.Div(html.Pre(id='hover-data',style={'paddingTop':35}),\n",
    "            style={'width':'30%'})\n",
    "    \n",
    "],style={'width':'30%', 'float':'left'})"
   ]
  },
  {
   "cell_type": "code",
   "execution_count": null,
   "metadata": {},
   "outputs": [],
   "source": [
    "@app.callback(\n",
    "    Output('hover-data', 'children'),\n",
    "    [Input('wheels-plot', 'hoverData')])\n",
    "def callback_image(hoverData):\n",
    "    return json.dumps(hoverData, indent=2)"
   ]
  },
  {
   "cell_type": "code",
   "execution_count": 3,
   "metadata": {},
   "outputs": [],
   "source": [
    "def encode_image(image_file):\n",
    "    encoded = base64.b64encode(open(image_file, 'rb').read())\n",
    "    return 'data:image/png;base64,{}'.format(encoded.decode())\n",
    "\n",
    "app.layout = html.Div([\n",
    "    html.Div([\n",
    "    dcc.Graph(\n",
    "        id='wheels-plot',\n",
    "        figure={\n",
    "            'data': [\n",
    "                go.Scatter(\n",
    "                    x = df['color'],\n",
    "                    y = df['wheels'],\n",
    "                    dy = 1,\n",
    "                    mode = 'markers',\n",
    "                    marker = {\n",
    "                        'size': 12,\n",
    "                        'color': 'rgb(51,204,153)',\n",
    "                        'line': {'width': 2}\n",
    "                        }\n",
    "                )\n",
    "            ],\n",
    "            'layout': go.Layout(\n",
    "                title = 'Wheels & Colors Scatterplot',\n",
    "                xaxis = {'title': 'Color'},\n",
    "                yaxis = {'title': '# of Wheels','nticks':3},\n",
    "                hovermode='closest'\n",
    "            )\n",
    "        }\n",
    "    )], style={'width':'30%', 'float':'left'}),\n",
    "\n",
    "    html.Div([\n",
    "    html.Img(id='hover-image', src='children', height=300)\n",
    "    ], style={'paddingTop':35})\n",
    "])\n",
    "\n",
    "@app.callback(\n",
    "    Output('hover-image', 'src'),\n",
    "    [Input('wheels-plot', 'hoverData')])\n",
    "def callback_image(hoverData):\n",
    "    \n",
    "    \n",
    "    wheel=hoverData['points'][0]['y']\n",
    "    color=hoverData['points'][0]['x']\n",
    "    path = '/home/mandeep/workspace/learning/plotly/udemy/Plotly-Dashboards-with-Dash/Data/Images/'\n",
    "    return encode_image(path+df[(df['wheels']==wheel) & (df['color']==color)]['image'].values[0])"
   ]
  },
  {
   "cell_type": "code",
   "execution_count": 4,
   "metadata": {},
   "outputs": [
    {
     "name": "stdout",
     "output_type": "stream",
     "text": [
      " * Serving Flask app \"__main__\" (lazy loading)\n",
      " * Environment: production\n",
      "\u001b[31m   WARNING: Do not use the development server in a production environment.\u001b[0m\n",
      "\u001b[2m   Use a production WSGI server instead.\u001b[0m\n",
      " * Debug mode: off\n"
     ]
    },
    {
     "name": "stderr",
     "output_type": "stream",
     "text": [
      " * Running on http://127.0.0.1:8050/ (Press CTRL+C to quit)\n",
      "127.0.0.1 - - [28/Apr/2020 22:04:20] \"\u001b[37mGET / HTTP/1.1\u001b[0m\" 200 -\n",
      "127.0.0.1 - - [28/Apr/2020 22:04:21] \"\u001b[37mGET /_dash-dependencies HTTP/1.1\u001b[0m\" 200 -\n",
      "127.0.0.1 - - [28/Apr/2020 22:04:21] \"\u001b[37mGET /_dash-layout HTTP/1.1\u001b[0m\" 200 -\n",
      "127.0.0.1 - - [28/Apr/2020 22:04:21] \"\u001b[37mGET /children HTTP/1.1\u001b[0m\" 200 -\n",
      "[2020-04-28 22:04:21,871] ERROR in app: Exception on /_dash-update-component [POST]\n",
      "Traceback (most recent call last):\n",
      "  File \"/home/mandeep/py_sandbox/lib/python3.7/site-packages/flask/app.py\", line 2292, in wsgi_app\n",
      "    response = self.full_dispatch_request()\n",
      "  File \"/home/mandeep/py_sandbox/lib/python3.7/site-packages/flask/app.py\", line 1815, in full_dispatch_request\n",
      "    rv = self.handle_user_exception(e)\n",
      "  File \"/home/mandeep/py_sandbox/lib/python3.7/site-packages/flask/app.py\", line 1718, in handle_user_exception\n",
      "    reraise(exc_type, exc_value, tb)\n",
      "  File \"/home/mandeep/py_sandbox/lib/python3.7/site-packages/flask/_compat.py\", line 35, in reraise\n",
      "    raise value\n",
      "  File \"/home/mandeep/py_sandbox/lib/python3.7/site-packages/flask/app.py\", line 1813, in full_dispatch_request\n",
      "    rv = self.dispatch_request()\n",
      "  File \"/home/mandeep/py_sandbox/lib/python3.7/site-packages/flask/app.py\", line 1799, in dispatch_request\n",
      "    return self.view_functions[rule.endpoint](**req.view_args)\n",
      "  File \"/home/mandeep/py_sandbox/lib/python3.7/site-packages/dash/dash.py\", line 967, in dispatch\n",
      "    response.set_data(func(*args, outputs_list=outputs_list))\n",
      "  File \"/home/mandeep/py_sandbox/lib/python3.7/site-packages/dash/dash.py\", line 902, in add_context\n",
      "    output_value = func(*args, **kwargs)  # %% callback invoked %%\n",
      "  File \"<ipython-input-3-98cd41cc7d3f>\", line 43, in callback_image\n",
      "    wheel=hoverData['points'][0]['y']\n",
      "TypeError: 'NoneType' object is not subscriptable\n",
      "127.0.0.1 - - [28/Apr/2020 22:04:21] \"\u001b[35m\u001b[1mPOST /_dash-update-component HTTP/1.1\u001b[0m\" 500 -\n",
      "127.0.0.1 - - [28/Apr/2020 22:04:22] \"\u001b[37mPOST /_dash-update-component HTTP/1.1\u001b[0m\" 200 -\n",
      "127.0.0.1 - - [28/Apr/2020 22:04:23] \"\u001b[37mPOST /_dash-update-component HTTP/1.1\u001b[0m\" 200 -\n"
     ]
    }
   ],
   "source": [
    "app.run_server()"
   ]
  },
  {
   "cell_type": "markdown",
   "metadata": {},
   "source": [
    "### Click Data"
   ]
  },
  {
   "cell_type": "code",
   "execution_count": 6,
   "metadata": {},
   "outputs": [],
   "source": [
    "app = dash.Dash()\n"
   ]
  },
  {
   "cell_type": "code",
   "execution_count": 7,
   "metadata": {},
   "outputs": [],
   "source": [
    "def encode_image(image_file):\n",
    "    encoded = base64.b64encode(open(image_file, 'rb').read())\n",
    "    return 'data:image/png;base64,{}'.format(encoded.decode())\n",
    "\n",
    "app.layout = html.Div([\n",
    "    html.Div([\n",
    "    dcc.Graph(\n",
    "        id='wheels-plot',\n",
    "        figure={\n",
    "            'data': [\n",
    "                go.Scatter(\n",
    "                    x = df['color'],\n",
    "                    y = df['wheels'],\n",
    "                    dy = 1,\n",
    "                    mode = 'markers',\n",
    "                    marker = {\n",
    "                        'size': 12,\n",
    "                        'color': 'rgb(51,204,153)',\n",
    "                        'line': {'width': 2}\n",
    "                        }\n",
    "                )\n",
    "            ],\n",
    "            'layout': go.Layout(\n",
    "                title = 'Wheels & Colors Scatterplot',\n",
    "                xaxis = {'title': 'Color'},\n",
    "                yaxis = {'title': '# of Wheels','nticks':3},\n",
    "                hovermode='closest'\n",
    "            )\n",
    "        }\n",
    "    )], style={'width':'30%', 'float':'left'}),\n",
    "\n",
    "    html.Div([\n",
    "    html.Img(id='hover-image', src='children', height=300)\n",
    "    ], style={'paddingTop':35})\n",
    "])\n",
    "\n",
    "@app.callback(\n",
    "    Output('hover-image', 'src'),\n",
    "    [Input('wheels-plot', 'clickData')])\n",
    "def callback_image(hoverData):\n",
    "    \n",
    "    \n",
    "    wheel=hoverData['points'][0]['y']\n",
    "    color=hoverData['points'][0]['x']\n",
    "    path = '/home/mandeep/workspace/learning/plotly/udemy/Plotly-Dashboards-with-Dash/Data/Images/'\n",
    "    return encode_image(path+df[(df['wheels']==wheel) & (df['color']==color)]['image'].values[0])"
   ]
  },
  {
   "cell_type": "code",
   "execution_count": 8,
   "metadata": {},
   "outputs": [
    {
     "name": "stdout",
     "output_type": "stream",
     "text": [
      " * Serving Flask app \"__main__\" (lazy loading)\n",
      " * Environment: production\n",
      "\u001b[31m   WARNING: Do not use the development server in a production environment.\u001b[0m\n",
      "\u001b[2m   Use a production WSGI server instead.\u001b[0m\n",
      " * Debug mode: off\n"
     ]
    },
    {
     "name": "stderr",
     "output_type": "stream",
     "text": [
      " * Running on http://127.0.0.1:8050/ (Press CTRL+C to quit)\n",
      "127.0.0.1 - - [28/Apr/2020 22:06:13] \"\u001b[37mGET / HTTP/1.1\u001b[0m\" 200 -\n",
      "127.0.0.1 - - [28/Apr/2020 22:06:13] \"\u001b[37mGET /_dash-layout HTTP/1.1\u001b[0m\" 200 -\n",
      "127.0.0.1 - - [28/Apr/2020 22:06:13] \"\u001b[37mGET /_dash-dependencies HTTP/1.1\u001b[0m\" 200 -\n",
      "127.0.0.1 - - [28/Apr/2020 22:06:14] \"\u001b[37mGET /children HTTP/1.1\u001b[0m\" 200 -\n",
      "[2020-04-28 22:06:14,617] ERROR in app: Exception on /_dash-update-component [POST]\n",
      "Traceback (most recent call last):\n",
      "  File \"/home/mandeep/py_sandbox/lib/python3.7/site-packages/flask/app.py\", line 2292, in wsgi_app\n",
      "    response = self.full_dispatch_request()\n",
      "  File \"/home/mandeep/py_sandbox/lib/python3.7/site-packages/flask/app.py\", line 1815, in full_dispatch_request\n",
      "    rv = self.handle_user_exception(e)\n",
      "  File \"/home/mandeep/py_sandbox/lib/python3.7/site-packages/flask/app.py\", line 1718, in handle_user_exception\n",
      "    reraise(exc_type, exc_value, tb)\n",
      "  File \"/home/mandeep/py_sandbox/lib/python3.7/site-packages/flask/_compat.py\", line 35, in reraise\n",
      "    raise value\n",
      "  File \"/home/mandeep/py_sandbox/lib/python3.7/site-packages/flask/app.py\", line 1813, in full_dispatch_request\n",
      "    rv = self.dispatch_request()\n",
      "  File \"/home/mandeep/py_sandbox/lib/python3.7/site-packages/flask/app.py\", line 1799, in dispatch_request\n",
      "    return self.view_functions[rule.endpoint](**req.view_args)\n",
      "  File \"/home/mandeep/py_sandbox/lib/python3.7/site-packages/dash/dash.py\", line 967, in dispatch\n",
      "    response.set_data(func(*args, outputs_list=outputs_list))\n",
      "  File \"/home/mandeep/py_sandbox/lib/python3.7/site-packages/dash/dash.py\", line 902, in add_context\n",
      "    output_value = func(*args, **kwargs)  # %% callback invoked %%\n",
      "  File \"<ipython-input-7-491114ae9623>\", line 43, in callback_image\n",
      "    wheel=hoverData['points'][0]['y']\n",
      "TypeError: 'NoneType' object is not subscriptable\n",
      "127.0.0.1 - - [28/Apr/2020 22:06:14] \"\u001b[35m\u001b[1mPOST /_dash-update-component HTTP/1.1\u001b[0m\" 500 -\n",
      "127.0.0.1 - - [28/Apr/2020 22:06:16] \"\u001b[37mPOST /_dash-update-component HTTP/1.1\u001b[0m\" 200 -\n",
      "127.0.0.1 - - [28/Apr/2020 22:06:17] \"\u001b[37mPOST /_dash-update-component HTTP/1.1\u001b[0m\" 200 -\n",
      "127.0.0.1 - - [28/Apr/2020 22:06:19] \"\u001b[37mPOST /_dash-update-component HTTP/1.1\u001b[0m\" 200 -\n",
      "127.0.0.1 - - [28/Apr/2020 22:06:20] \"\u001b[37mPOST /_dash-update-component HTTP/1.1\u001b[0m\" 200 -\n",
      "127.0.0.1 - - [28/Apr/2020 22:06:23] \"\u001b[37mPOST /_dash-update-component HTTP/1.1\u001b[0m\" 200 -\n"
     ]
    }
   ],
   "source": [
    "app.run_server()"
   ]
  },
  {
   "cell_type": "code",
   "execution_count": null,
   "metadata": {},
   "outputs": [],
   "source": []
  }
 ],
 "metadata": {
  "kernelspec": {
   "display_name": "Python 3",
   "language": "python",
   "name": "python3"
  },
  "language_info": {
   "codemirror_mode": {
    "name": "ipython",
    "version": 3
   },
   "file_extension": ".py",
   "mimetype": "text/x-python",
   "name": "python",
   "nbconvert_exporter": "python",
   "pygments_lexer": "ipython3",
   "version": "3.7.7"
  }
 },
 "nbformat": 4,
 "nbformat_minor": 4
}
