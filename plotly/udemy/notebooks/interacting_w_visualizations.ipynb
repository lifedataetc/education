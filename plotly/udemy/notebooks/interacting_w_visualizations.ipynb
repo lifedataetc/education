{
 "cells": [
  {
   "cell_type": "code",
   "execution_count": 1,
   "metadata": {},
   "outputs": [],
   "source": [
    "#######\n",
    "# This makes a 3x3 scatterplot of wheels.csv, and sends\n",
    "# the result of hover to the screen as a JSON object.\n",
    "######\n",
    "import dash\n",
    "import dash_core_components as dcc\n",
    "import dash_html_components as html\n",
    "from dash.dependencies import Input, Output\n",
    "import plotly.graph_objs as go\n",
    "import pandas as pd\n",
    "import json\n",
    "import base64"
   ]
  },
  {
   "cell_type": "code",
   "execution_count": 2,
   "metadata": {},
   "outputs": [],
   "source": [
    "app = dash.Dash()\n",
    "\n",
    "df = pd.read_csv('../Plotly-Dashboards-with-Dash/Data/wheels.csv')"
   ]
  },
  {
   "cell_type": "code",
   "execution_count": 3,
   "metadata": {},
   "outputs": [
    {
     "data": {
      "text/html": [
       "<div>\n",
       "<style scoped>\n",
       "    .dataframe tbody tr th:only-of-type {\n",
       "        vertical-align: middle;\n",
       "    }\n",
       "\n",
       "    .dataframe tbody tr th {\n",
       "        vertical-align: top;\n",
       "    }\n",
       "\n",
       "    .dataframe thead th {\n",
       "        text-align: right;\n",
       "    }\n",
       "</style>\n",
       "<table border=\"1\" class=\"dataframe\">\n",
       "  <thead>\n",
       "    <tr style=\"text-align: right;\">\n",
       "      <th></th>\n",
       "      <th>wheels</th>\n",
       "      <th>color</th>\n",
       "      <th>image</th>\n",
       "    </tr>\n",
       "  </thead>\n",
       "  <tbody>\n",
       "    <tr>\n",
       "      <th>0</th>\n",
       "      <td>1</td>\n",
       "      <td>red</td>\n",
       "      <td>redunicycle.jpg</td>\n",
       "    </tr>\n",
       "    <tr>\n",
       "      <th>1</th>\n",
       "      <td>1</td>\n",
       "      <td>blue</td>\n",
       "      <td>blueunicycle.jpg</td>\n",
       "    </tr>\n",
       "    <tr>\n",
       "      <th>2</th>\n",
       "      <td>1</td>\n",
       "      <td>yellow</td>\n",
       "      <td>yellowunicycle.jpg</td>\n",
       "    </tr>\n",
       "    <tr>\n",
       "      <th>3</th>\n",
       "      <td>2</td>\n",
       "      <td>red</td>\n",
       "      <td>redbicycle.jpg</td>\n",
       "    </tr>\n",
       "    <tr>\n",
       "      <th>4</th>\n",
       "      <td>2</td>\n",
       "      <td>blue</td>\n",
       "      <td>bluemotorcycle.jpg</td>\n",
       "    </tr>\n",
       "    <tr>\n",
       "      <th>5</th>\n",
       "      <td>2</td>\n",
       "      <td>yellow</td>\n",
       "      <td>yellowscooter.jpg</td>\n",
       "    </tr>\n",
       "    <tr>\n",
       "      <th>6</th>\n",
       "      <td>3</td>\n",
       "      <td>red</td>\n",
       "      <td>redtricycle.jpg</td>\n",
       "    </tr>\n",
       "    <tr>\n",
       "      <th>7</th>\n",
       "      <td>3</td>\n",
       "      <td>blue</td>\n",
       "      <td>bluetricycle.jpg</td>\n",
       "    </tr>\n",
       "    <tr>\n",
       "      <th>8</th>\n",
       "      <td>3</td>\n",
       "      <td>yellow</td>\n",
       "      <td>yellowrickshaw.jpg</td>\n",
       "    </tr>\n",
       "  </tbody>\n",
       "</table>\n",
       "</div>"
      ],
      "text/plain": [
       "   wheels   color               image\n",
       "0       1     red     redunicycle.jpg\n",
       "1       1    blue    blueunicycle.jpg\n",
       "2       1  yellow  yellowunicycle.jpg\n",
       "3       2     red      redbicycle.jpg\n",
       "4       2    blue  bluemotorcycle.jpg\n",
       "5       2  yellow   yellowscooter.jpg\n",
       "6       3     red     redtricycle.jpg\n",
       "7       3    blue    bluetricycle.jpg\n",
       "8       3  yellow  yellowrickshaw.jpg"
      ]
     },
     "execution_count": 3,
     "metadata": {},
     "output_type": "execute_result"
    }
   ],
   "source": [
    "df"
   ]
  },
  {
   "cell_type": "code",
   "execution_count": 4,
   "metadata": {},
   "outputs": [],
   "source": [
    "app.layout = html.Div([\n",
    "    \n",
    "    html.Div(dcc.Graph(id='wheels-plot',\n",
    "                       figure={'data':[go.Scatter(x=df['color'],\n",
    "                                                    y=df['wheels'],\n",
    "                                                    dy=1,\n",
    "                                                    mode='markers',\n",
    "                                                    marker={'size':15})],\n",
    "                               'layout':go.Layout(title='Test',hovermode='closest')}\n",
    "    \n",
    "        \n",
    "    )),\n",
    "    \n",
    "    html.Div(html.Pre(id='hover-data',style={'paddingTop':35}),\n",
    "            style={'width':'30%'})\n",
    "    \n",
    "],style={'width':'30%', 'float':'left'})"
   ]
  },
  {
   "cell_type": "code",
   "execution_count": 5,
   "metadata": {},
   "outputs": [],
   "source": [
    "@app.callback(\n",
    "    Output('hover-data', 'children'),\n",
    "    [Input('wheels-plot', 'hoverData')])\n",
    "def callback_image(hoverData):\n",
    "    return json.dumps(hoverData, indent=2)"
   ]
  },
  {
   "cell_type": "code",
   "execution_count": 6,
   "metadata": {},
   "outputs": [],
   "source": [
    "def encode_image(image_file):\n",
    "    encoded = base64.b64encode(open(image_file, 'rb').read())\n",
    "    return 'data:image/png;base64,{}'.format(encoded.decode())\n",
    "\n",
    "app.layout = html.Div([\n",
    "    html.Div([\n",
    "    dcc.Graph(\n",
    "        id='wheels-plot',\n",
    "        figure={\n",
    "            'data': [\n",
    "                go.Scatter(\n",
    "                    x = df['color'],\n",
    "                    y = df['wheels'],\n",
    "                    dy = 1,\n",
    "                    mode = 'markers',\n",
    "                    marker = {\n",
    "                        'size': 12,\n",
    "                        'color': 'rgb(51,204,153)',\n",
    "                        'line': {'width': 2}\n",
    "                        }\n",
    "                )\n",
    "            ],\n",
    "            'layout': go.Layout(\n",
    "                title = 'Wheels & Colors Scatterplot',\n",
    "                xaxis = {'title': 'Color'},\n",
    "                yaxis = {'title': '# of Wheels','nticks':3},\n",
    "                hovermode='closest'\n",
    "            )\n",
    "        }\n",
    "    )], style={'width':'30%', 'float':'left'}),\n",
    "\n",
    "    html.Div([\n",
    "    html.Img(id='hover-image', src='children', height=300)\n",
    "    ], style={'paddingTop':35})\n",
    "])\n",
    "\n",
    "@app.callback(\n",
    "    Output('hover-image', 'src'),\n",
    "    [Input('wheels-plot', 'hoverData')])\n",
    "def callback_image(hoverData):\n",
    "    \n",
    "    \n",
    "    wheel=hoverData['points'][0]['y']\n",
    "    color=hoverData['points'][0]['x']\n",
    "    path = '/home/mandeep/workspace/learning/plotly/udemy/Plotly-Dashboards-with-Dash/Data/Images/'\n",
    "    return encode_image(path+df[(df['wheels']==wheel) & (df['color']==color)]['image'].values[0])"
   ]
  },
  {
   "cell_type": "code",
   "execution_count": 9,
   "metadata": {},
   "outputs": [
    {
     "name": "stdout",
     "output_type": "stream",
     "text": [
      " * Serving Flask app \"__main__\" (lazy loading)\n",
      " * Environment: production\n",
      "\u001b[31m   WARNING: This is a development server. Do not use it in a production deployment.\u001b[0m\n",
      "\u001b[2m   Use a production WSGI server instead.\u001b[0m\n",
      " * Debug mode: off\n"
     ]
    },
    {
     "name": "stderr",
     "output_type": "stream",
     "text": [
      " * Running on http://0.0.0.0:8050/ (Press CTRL+C to quit)\n",
      "192.168.2.96 - - [05/May/2020 20:02:20] \"\u001b[37mGET / HTTP/1.1\u001b[0m\" 200 -\n",
      "192.168.2.96 - - [05/May/2020 20:02:20] \"\u001b[37mGET /_dash-component-suites/dash_renderer/react@16.v1_4_1m1588701816.13.0.min.js HTTP/1.1\u001b[0m\" 200 -\n",
      "192.168.2.96 - - [05/May/2020 20:02:20] \"\u001b[37mGET /_dash-component-suites/dash_renderer/prop-types@15.v1_4_1m1588701816.7.2.min.js HTTP/1.1\u001b[0m\" 200 -\n",
      "192.168.2.96 - - [05/May/2020 20:02:20] \"\u001b[37mGET /_dash-component-suites/dash_renderer/polyfill@7.v1_4_1m1588701816.8.7.min.js HTTP/1.1\u001b[0m\" 200 -\n",
      "192.168.2.96 - - [05/May/2020 20:02:20] \"\u001b[37mGET /_dash-component-suites/dash_renderer/react-dom@16.v1_4_1m1588701816.13.0.min.js HTTP/1.1\u001b[0m\" 200 -\n",
      "192.168.2.96 - - [05/May/2020 20:02:20] \"\u001b[37mGET /_dash-component-suites/dash_core_components/dash_core_components-shared.v1_10_0m1588696757.js HTTP/1.1\u001b[0m\" 200 -\n",
      "192.168.2.96 - - [05/May/2020 20:02:20] \"\u001b[37mGET /_dash-component-suites/dash_core_components/dash_core_components.v1_10_0m1588696757.min.js HTTP/1.1\u001b[0m\" 200 -\n",
      "192.168.2.96 - - [05/May/2020 20:02:20] \"\u001b[37mGET /_dash-component-suites/dash_html_components/dash_html_components.v1_0_3m1585775459.min.js HTTP/1.1\u001b[0m\" 200 -\n",
      "192.168.2.96 - - [05/May/2020 20:02:20] \"\u001b[37mGET /_dash-component-suites/dash_renderer/dash_renderer.v1_4_1m1588701828.min.js HTTP/1.1\u001b[0m\" 200 -\n",
      "192.168.2.96 - - [05/May/2020 20:02:20] \"\u001b[37mGET /_dash-dependencies HTTP/1.1\u001b[0m\" 200 -\n",
      "192.168.2.96 - - [05/May/2020 20:02:20] \"\u001b[37mGET /_dash-layout HTTP/1.1\u001b[0m\" 200 -\n",
      "192.168.2.96 - - [05/May/2020 20:02:20] \"\u001b[37mGET /_favicon.ico?v=1.12.0 HTTP/1.1\u001b[0m\" 200 -\n",
      "192.168.2.96 - - [05/May/2020 20:02:20] \"\u001b[37mGET /_dash-component-suites/dash_core_components/async-graph.v1_10_0m1588696753.js HTTP/1.1\u001b[0m\" 200 -\n",
      "192.168.2.96 - - [05/May/2020 20:02:20] \"\u001b[37mGET /children HTTP/1.1\u001b[0m\" 200 -\n",
      "192.168.2.96 - - [05/May/2020 20:02:21] \"\u001b[37mGET /_dash-component-suites/dash_core_components/async-plotlyjs.v1_10_0m1588696753.js HTTP/1.1\u001b[0m\" 200 -\n"
     ]
    },
    {
     "name": "stdout",
     "output_type": "stream",
     "text": [
      "Exception on /_dash-update-component [POST]\n",
      "Traceback (most recent call last):\n",
      "  File \"/home/mandeep/py_sandbox/lib/python3.8/site-packages/flask/app.py\", line 2447, in wsgi_app\n",
      "    response = self.full_dispatch_request()\n",
      "  File \"/home/mandeep/py_sandbox/lib/python3.8/site-packages/flask/app.py\", line 1952, in full_dispatch_request\n",
      "    rv = self.handle_user_exception(e)\n",
      "  File \"/home/mandeep/py_sandbox/lib/python3.8/site-packages/flask/app.py\", line 1821, in handle_user_exception\n",
      "    reraise(exc_type, exc_value, tb)\n",
      "  File \"/home/mandeep/py_sandbox/lib/python3.8/site-packages/flask/_compat.py\", line 39, in reraise\n",
      "    raise value\n",
      "  File \"/home/mandeep/py_sandbox/lib/python3.8/site-packages/flask/app.py\", line 1950, in full_dispatch_request\n",
      "    rv = self.dispatch_request()\n",
      "  File \"/home/mandeep/py_sandbox/lib/python3.8/site-packages/flask/app.py\", line 1936, in dispatch_request\n",
      "    return self.view_functions[rule.endpoint](**req.view_args)\n",
      "  File \"/home/mandeep/py_sandbox/lib/python3.8/site-packages/dash/dash.py\", line 1032, in dispatch\n",
      "    response.set_data(func(*args, outputs_list=outputs_list))\n",
      "  File \"/home/mandeep/py_sandbox/lib/python3.8/site-packages/dash/dash.py\", line 967, in add_context\n",
      "    output_value = func(*args, **kwargs)  # %% callback invoked %%\n",
      "  File \"<ipython-input-6-98cd41cc7d3f>\", line 43, in callback_image\n",
      "    wheel=hoverData['points'][0]['y']\n",
      "TypeError: 'NoneType' object is not subscriptable\n"
     ]
    },
    {
     "name": "stderr",
     "output_type": "stream",
     "text": [
      "192.168.2.96 - - [05/May/2020 20:02:21] \"\u001b[35m\u001b[1mPOST /_dash-update-component HTTP/1.1\u001b[0m\" 500 -\n",
      "192.168.2.96 - - [05/May/2020 20:02:23] \"\u001b[37mPOST /_dash-update-component HTTP/1.1\u001b[0m\" 200 -\n",
      "192.168.2.96 - - [05/May/2020 20:02:24] \"\u001b[37mPOST /_dash-update-component HTTP/1.1\u001b[0m\" 200 -\n",
      "192.168.2.96 - - [05/May/2020 20:02:25] \"\u001b[37mPOST /_dash-update-component HTTP/1.1\u001b[0m\" 200 -\n",
      "192.168.2.96 - - [05/May/2020 20:02:26] \"\u001b[37mPOST /_dash-update-component HTTP/1.1\u001b[0m\" 200 -\n",
      "192.168.2.96 - - [05/May/2020 20:02:26] \"\u001b[37mPOST /_dash-update-component HTTP/1.1\u001b[0m\" 200 -\n",
      "192.168.2.96 - - [05/May/2020 20:02:27] \"\u001b[37mPOST /_dash-update-component HTTP/1.1\u001b[0m\" 200 -\n",
      "192.168.2.96 - - [05/May/2020 20:02:27] \"\u001b[37mPOST /_dash-update-component HTTP/1.1\u001b[0m\" 200 -\n",
      "192.168.2.96 - - [05/May/2020 20:02:28] \"\u001b[37mPOST /_dash-update-component HTTP/1.1\u001b[0m\" 200 -\n",
      "192.168.2.96 - - [05/May/2020 20:02:29] \"\u001b[37mPOST /_dash-update-component HTTP/1.1\u001b[0m\" 200 -\n",
      "192.168.2.96 - - [05/May/2020 20:02:29] \"\u001b[37mPOST /_dash-update-component HTTP/1.1\u001b[0m\" 200 -\n"
     ]
    }
   ],
   "source": [
    "app.run_server(host= '0.0.0.0')"
   ]
  },
  {
   "cell_type": "markdown",
   "metadata": {},
   "source": [
    "### Click Data"
   ]
  },
  {
   "cell_type": "code",
   "execution_count": 10,
   "metadata": {},
   "outputs": [],
   "source": [
    "app = dash.Dash()\n"
   ]
  },
  {
   "cell_type": "code",
   "execution_count": 11,
   "metadata": {},
   "outputs": [],
   "source": [
    "def encode_image(image_file):\n",
    "    encoded = base64.b64encode(open(image_file, 'rb').read())\n",
    "    return 'data:image/png;base64,{}'.format(encoded.decode())\n",
    "\n",
    "app.layout = html.Div([\n",
    "    html.Div([\n",
    "    dcc.Graph(\n",
    "        id='wheels-plot',\n",
    "        figure={\n",
    "            'data': [\n",
    "                go.Scatter(\n",
    "                    x = df['color'],\n",
    "                    y = df['wheels'],\n",
    "                    dy = 1,\n",
    "                    mode = 'markers',\n",
    "                    marker = {\n",
    "                        'size': 12,\n",
    "                        'color': 'rgb(51,204,153)',\n",
    "                        'line': {'width': 2}\n",
    "                        }\n",
    "                )\n",
    "            ],\n",
    "            'layout': go.Layout(\n",
    "                title = 'Wheels & Colors Scatterplot',\n",
    "                xaxis = {'title': 'Color'},\n",
    "                yaxis = {'title': '# of Wheels','nticks':3},\n",
    "                hovermode='closest'\n",
    "            )\n",
    "        }\n",
    "    )], style={'width':'30%', 'float':'left'}),\n",
    "\n",
    "    html.Div([\n",
    "    html.Img(id='hover-image', src='children', height=300)\n",
    "    ], style={'paddingTop':35})\n",
    "])\n",
    "\n",
    "@app.callback(\n",
    "    Output('hover-image', 'src'),\n",
    "    [Input('wheels-plot', 'clickData')])\n",
    "def callback_image(hoverData):\n",
    "    \n",
    "    \n",
    "    wheel=hoverData['points'][0]['y']\n",
    "    color=hoverData['points'][0]['x']\n",
    "    path = '/home/mandeep/workspace/learning/plotly/udemy/Plotly-Dashboards-with-Dash/Data/Images/'\n",
    "    return encode_image(path+df[(df['wheels']==wheel) & (df['color']==color)]['image'].values[0])"
   ]
  },
  {
   "cell_type": "code",
   "execution_count": 13,
   "metadata": {},
   "outputs": [
    {
     "name": "stdout",
     "output_type": "stream",
     "text": [
      " * Serving Flask app \"__main__\" (lazy loading)\n",
      " * Environment: production\n",
      "\u001b[31m   WARNING: This is a development server. Do not use it in a production deployment.\u001b[0m\n",
      "\u001b[2m   Use a production WSGI server instead.\u001b[0m\n",
      " * Debug mode: off\n"
     ]
    },
    {
     "name": "stderr",
     "output_type": "stream",
     "text": [
      " * Running on http://0.0.0.0:8050/ (Press CTRL+C to quit)\n",
      "192.168.2.96 - - [05/May/2020 20:48:06] \"\u001b[37mGET / HTTP/1.1\u001b[0m\" 200 -\n",
      "192.168.2.96 - - [05/May/2020 20:48:06] \"\u001b[37mGET /_dash-layout HTTP/1.1\u001b[0m\" 200 -\n",
      "192.168.2.96 - - [05/May/2020 20:48:06] \"\u001b[37mGET /_dash-dependencies HTTP/1.1\u001b[0m\" 200 -\n",
      "192.168.2.96 - - [05/May/2020 20:48:06] \"\u001b[37mGET /children HTTP/1.1\u001b[0m\" 200 -\n",
      "192.168.2.96 - - [05/May/2020 20:48:07] \"\u001b[37mGET /_dash-component-suites/dash_core_components/async-plotlyjs.v1_10_0m1588696753.js HTTP/1.1\u001b[0m\" 200 -\n"
     ]
    },
    {
     "name": "stdout",
     "output_type": "stream",
     "text": [
      "Exception on /_dash-update-component [POST]\n",
      "Traceback (most recent call last):\n",
      "  File \"/home/mandeep/py_sandbox/lib/python3.8/site-packages/flask/app.py\", line 2447, in wsgi_app\n",
      "    response = self.full_dispatch_request()\n",
      "  File \"/home/mandeep/py_sandbox/lib/python3.8/site-packages/flask/app.py\", line 1952, in full_dispatch_request\n",
      "    rv = self.handle_user_exception(e)\n",
      "  File \"/home/mandeep/py_sandbox/lib/python3.8/site-packages/flask/app.py\", line 1821, in handle_user_exception\n",
      "    reraise(exc_type, exc_value, tb)\n",
      "  File \"/home/mandeep/py_sandbox/lib/python3.8/site-packages/flask/_compat.py\", line 39, in reraise\n",
      "    raise value\n",
      "  File \"/home/mandeep/py_sandbox/lib/python3.8/site-packages/flask/app.py\", line 1950, in full_dispatch_request\n",
      "    rv = self.dispatch_request()\n",
      "  File \"/home/mandeep/py_sandbox/lib/python3.8/site-packages/flask/app.py\", line 1936, in dispatch_request\n",
      "    return self.view_functions[rule.endpoint](**req.view_args)\n",
      "  File \"/home/mandeep/py_sandbox/lib/python3.8/site-packages/dash/dash.py\", line 1032, in dispatch\n",
      "    response.set_data(func(*args, outputs_list=outputs_list))\n",
      "  File \"/home/mandeep/py_sandbox/lib/python3.8/site-packages/dash/dash.py\", line 967, in add_context\n",
      "    output_value = func(*args, **kwargs)  # %% callback invoked %%\n",
      "  File \"<ipython-input-11-491114ae9623>\", line 43, in callback_image\n",
      "    wheel=hoverData['points'][0]['y']\n",
      "TypeError: 'NoneType' object is not subscriptable\n",
      "Exception on /_dash-update-component [POST]\n",
      "Traceback (most recent call last):\n",
      "  File \"/home/mandeep/py_sandbox/lib/python3.8/site-packages/flask/app.py\", line 2447, in wsgi_app\n",
      "    response = self.full_dispatch_request()\n",
      "  File \"/home/mandeep/py_sandbox/lib/python3.8/site-packages/flask/app.py\", line 1952, in full_dispatch_request\n",
      "    rv = self.handle_user_exception(e)\n",
      "  File \"/home/mandeep/py_sandbox/lib/python3.8/site-packages/flask/app.py\", line 1821, in handle_user_exception\n",
      "    reraise(exc_type, exc_value, tb)\n",
      "  File \"/home/mandeep/py_sandbox/lib/python3.8/site-packages/flask/_compat.py\", line 39, in reraise\n",
      "    raise value\n",
      "  File \"/home/mandeep/py_sandbox/lib/python3.8/site-packages/flask/app.py\", line 1950, in full_dispatch_request\n",
      "    rv = self.dispatch_request()\n",
      "  File \"/home/mandeep/py_sandbox/lib/python3.8/site-packages/flask/app.py\", line 1936, in dispatch_request\n",
      "    return self.view_functions[rule.endpoint](**req.view_args)\n",
      "  File \"/home/mandeep/py_sandbox/lib/python3.8/site-packages/dash/dash.py\", line 1032, in dispatch\n",
      "    response.set_data(func(*args, outputs_list=outputs_list))\n",
      "  File \"/home/mandeep/py_sandbox/lib/python3.8/site-packages/dash/dash.py\", line 967, in add_context\n",
      "    output_value = func(*args, **kwargs)  # %% callback invoked %%\n",
      "  File \"<ipython-input-11-491114ae9623>\", line 43, in callback_image\n",
      "    wheel=hoverData['points'][0]['y']\n",
      "TypeError: 'NoneType' object is not subscriptable\n"
     ]
    },
    {
     "name": "stderr",
     "output_type": "stream",
     "text": [
      "192.168.2.96 - - [05/May/2020 20:48:07] \"\u001b[35m\u001b[1mPOST /_dash-update-component HTTP/1.1\u001b[0m\" 500 -\n",
      "192.168.2.96 - - [05/May/2020 20:48:18] \"\u001b[37mPOST /_dash-update-component HTTP/1.1\u001b[0m\" 200 -\n",
      "192.168.2.96 - - [05/May/2020 20:48:19] \"\u001b[37mPOST /_dash-update-component HTTP/1.1\u001b[0m\" 200 -\n"
     ]
    }
   ],
   "source": [
    "app.run_server(host= '0.0.0.0')"
   ]
  },
  {
   "cell_type": "markdown",
   "metadata": {},
   "source": [
    "## Selected Data"
   ]
  },
  {
   "cell_type": "code",
   "execution_count": 17,
   "metadata": {},
   "outputs": [],
   "source": [
    "import dash\n",
    "import dash_core_components as dcc\n",
    "import dash_html_components as html\n",
    "from dash.dependencies import Input, Output\n",
    "import plotly.graph_objs as go\n",
    "import numpy as np\n",
    "import pandas as pd"
   ]
  },
  {
   "cell_type": "code",
   "execution_count": 18,
   "metadata": {},
   "outputs": [],
   "source": [
    "app = dash.Dash()\n",
    "\n",
    "# create x and y arrays\n",
    "np.random.seed(10)          # for reproducible results\n",
    "x1 = np.linspace(0.1,5,50)  # left half\n",
    "x2 = np.linspace(5.1,10,50) # right half\n",
    "y = np.random.randint(0,50,50) # 50 random points\n",
    "\n",
    "# create three \"half DataFrames\"\n",
    "df1 = pd.DataFrame({'x': x1, 'y': y})\n",
    "df2 = pd.DataFrame({'x': x1, 'y': y})\n",
    "df3 = pd.DataFrame({'x': x2, 'y': y})\n",
    "\n",
    "# combine them into one DataFrame (df1 and df2 points overlap!)\n",
    "df = pd.concat([df1,df2,df3])"
   ]
  },
  {
   "cell_type": "code",
   "execution_count": null,
   "metadata": {},
   "outputs": [],
   "source": [
    "app.layout = html.Div([\n",
    "    \n",
    "    html.Div([\n",
    "        dcc.Graph(id='plot',\n",
    "                  figure={'data':[go.Scatter(\n",
    "                      x=df['x'],\n",
    "                      y=df['y']\n",
    "                  )],\n",
    "                          'layout':})\n",
    "    ])\n",
    "    \n",
    "    \n",
    "])"
   ]
  },
  {
   "cell_type": "code",
   "execution_count": null,
   "metadata": {},
   "outputs": [],
   "source": []
  },
  {
   "cell_type": "code",
   "execution_count": 16,
   "metadata": {},
   "outputs": [
    {
     "name": "stdout",
     "output_type": "stream",
     "text": [
      " * Serving Flask app \"__main__\" (lazy loading)\n",
      " * Environment: production\n",
      "\u001b[31m   WARNING: This is a development server. Do not use it in a production deployment.\u001b[0m\n",
      "\u001b[2m   Use a production WSGI server instead.\u001b[0m\n",
      " * Debug mode: off\n"
     ]
    },
    {
     "name": "stderr",
     "output_type": "stream",
     "text": [
      " * Running on http://0.0.0.0:8050/ (Press CTRL+C to quit)\n",
      "192.168.2.96 - - [05/May/2020 20:50:13] \"\u001b[37mGET /children HTTP/1.1\u001b[0m\" 200 -\n"
     ]
    },
    {
     "name": "stdout",
     "output_type": "stream",
     "text": [
      "Exception on /_dash-update-component [POST]\n",
      "Traceback (most recent call last):\n",
      "  File \"/home/mandeep/py_sandbox/lib/python3.8/site-packages/flask/app.py\", line 2447, in wsgi_app\n",
      "    response = self.full_dispatch_request()\n",
      "  File \"/home/mandeep/py_sandbox/lib/python3.8/site-packages/flask/app.py\", line 1952, in full_dispatch_request\n",
      "    rv = self.handle_user_exception(e)\n",
      "  File \"/home/mandeep/py_sandbox/lib/python3.8/site-packages/flask/app.py\", line 1821, in handle_user_exception\n",
      "    reraise(exc_type, exc_value, tb)\n",
      "  File \"/home/mandeep/py_sandbox/lib/python3.8/site-packages/flask/_compat.py\", line 39, in reraise\n",
      "    raise value\n",
      "  File \"/home/mandeep/py_sandbox/lib/python3.8/site-packages/flask/app.py\", line 1950, in full_dispatch_request\n",
      "    rv = self.dispatch_request()\n",
      "  File \"/home/mandeep/py_sandbox/lib/python3.8/site-packages/flask/app.py\", line 1936, in dispatch_request\n",
      "    return self.view_functions[rule.endpoint](**req.view_args)\n",
      "  File \"/home/mandeep/py_sandbox/lib/python3.8/site-packages/dash/dash.py\", line 1031, in dispatch\n",
      "    func = self.callback_map[output][\"callback\"]\n",
      "KeyError: 'hover-image.src'\n",
      "Exception on /_dash-update-component [POST]\n",
      "Traceback (most recent call last):\n",
      "  File \"/home/mandeep/py_sandbox/lib/python3.8/site-packages/flask/app.py\", line 2447, in wsgi_app\n",
      "    response = self.full_dispatch_request()\n",
      "  File \"/home/mandeep/py_sandbox/lib/python3.8/site-packages/flask/app.py\", line 1952, in full_dispatch_request\n",
      "    rv = self.handle_user_exception(e)\n",
      "  File \"/home/mandeep/py_sandbox/lib/python3.8/site-packages/flask/app.py\", line 1821, in handle_user_exception\n",
      "    reraise(exc_type, exc_value, tb)\n",
      "  File \"/home/mandeep/py_sandbox/lib/python3.8/site-packages/flask/_compat.py\", line 39, in reraise\n",
      "    raise value\n",
      "  File \"/home/mandeep/py_sandbox/lib/python3.8/site-packages/flask/app.py\", line 1950, in full_dispatch_request\n",
      "    rv = self.dispatch_request()\n",
      "  File \"/home/mandeep/py_sandbox/lib/python3.8/site-packages/flask/app.py\", line 1936, in dispatch_request\n",
      "    return self.view_functions[rule.endpoint](**req.view_args)\n",
      "  File \"/home/mandeep/py_sandbox/lib/python3.8/site-packages/dash/dash.py\", line 1031, in dispatch\n",
      "    func = self.callback_map[output][\"callback\"]\n",
      "KeyError: 'hover-image.src'\n",
      "Exception on /_dash-update-component [POST]\n",
      "Traceback (most recent call last):\n",
      "  File \"/home/mandeep/py_sandbox/lib/python3.8/site-packages/flask/app.py\", line 2447, in wsgi_app\n",
      "    response = self.full_dispatch_request()\n",
      "  File \"/home/mandeep/py_sandbox/lib/python3.8/site-packages/flask/app.py\", line 1952, in full_dispatch_request\n",
      "    rv = self.handle_user_exception(e)\n",
      "  File \"/home/mandeep/py_sandbox/lib/python3.8/site-packages/flask/app.py\", line 1821, in handle_user_exception\n",
      "    reraise(exc_type, exc_value, tb)\n",
      "  File \"/home/mandeep/py_sandbox/lib/python3.8/site-packages/flask/_compat.py\", line 39, in reraise\n",
      "    raise value\n",
      "  File \"/home/mandeep/py_sandbox/lib/python3.8/site-packages/flask/app.py\", line 1950, in full_dispatch_request\n",
      "    rv = self.dispatch_request()\n",
      "  File \"/home/mandeep/py_sandbox/lib/python3.8/site-packages/flask/app.py\", line 1936, in dispatch_request\n",
      "    return self.view_functions[rule.endpoint](**req.view_args)\n",
      "  File \"/home/mandeep/py_sandbox/lib/python3.8/site-packages/dash/dash.py\", line 1031, in dispatch\n",
      "    func = self.callback_map[output][\"callback\"]\n",
      "KeyError: 'hover-image.src'\n",
      "Exception on /_dash-update-component [POST]\n",
      "Traceback (most recent call last):\n",
      "  File \"/home/mandeep/py_sandbox/lib/python3.8/site-packages/flask/app.py\", line 2447, in wsgi_app\n",
      "    response = self.full_dispatch_request()\n",
      "  File \"/home/mandeep/py_sandbox/lib/python3.8/site-packages/flask/app.py\", line 1952, in full_dispatch_request\n",
      "    rv = self.handle_user_exception(e)\n",
      "  File \"/home/mandeep/py_sandbox/lib/python3.8/site-packages/flask/app.py\", line 1821, in handle_user_exception\n",
      "    reraise(exc_type, exc_value, tb)\n",
      "  File \"/home/mandeep/py_sandbox/lib/python3.8/site-packages/flask/_compat.py\", line 39, in reraise\n",
      "    raise value\n",
      "  File \"/home/mandeep/py_sandbox/lib/python3.8/site-packages/flask/app.py\", line 1950, in full_dispatch_request\n",
      "    rv = self.dispatch_request()\n",
      "  File \"/home/mandeep/py_sandbox/lib/python3.8/site-packages/flask/app.py\", line 1936, in dispatch_request\n",
      "    return self.view_functions[rule.endpoint](**req.view_args)\n",
      "  File \"/home/mandeep/py_sandbox/lib/python3.8/site-packages/dash/dash.py\", line 1031, in dispatch\n",
      "    func = self.callback_map[output][\"callback\"]\n",
      "KeyError: 'hover-image.src'\n"
     ]
    },
    {
     "name": "stderr",
     "output_type": "stream",
     "text": [
      "192.168.2.96 - - [05/May/2020 20:50:13] \"\u001b[35m\u001b[1mPOST /_dash-update-component HTTP/1.1\u001b[0m\" 500 -\n",
      "192.168.2.96 - - [05/May/2020 20:50:14] \"\u001b[37mGET / HTTP/1.1\u001b[0m\" 200 -\n",
      "192.168.2.96 - - [05/May/2020 20:50:14] \"\u001b[37mGET /_dash-layout HTTP/1.1\u001b[0m\" 200 -\n",
      "192.168.2.96 - - [05/May/2020 20:50:14] \"\u001b[37mGET /_dash-dependencies HTTP/1.1\u001b[0m\" 200 -\n",
      "192.168.2.96 - - [05/May/2020 20:50:14] \"\u001b[37mGET /_favicon.ico?v=1.12.0 HTTP/1.1\u001b[0m\" 200 -\n",
      "192.168.2.96 - - [05/May/2020 20:50:15] \"\u001b[37mPOST /_dash-update-component HTTP/1.1\u001b[0m\" 200 -\n",
      "192.168.2.96 - - [05/May/2020 20:51:25] \"\u001b[37mPOST /_dash-update-component HTTP/1.1\u001b[0m\" 200 -\n",
      "192.168.2.96 - - [05/May/2020 20:51:29] \"\u001b[37mPOST /_dash-update-component HTTP/1.1\u001b[0m\" 200 -\n",
      "192.168.2.96 - - [05/May/2020 20:51:33] \"\u001b[37mPOST /_dash-update-component HTTP/1.1\u001b[0m\" 200 -\n",
      "192.168.2.96 - - [05/May/2020 20:51:35] \"\u001b[37mPOST /_dash-update-component HTTP/1.1\u001b[0m\" 200 -\n",
      "192.168.2.96 - - [05/May/2020 20:51:37] \"\u001b[37mPOST /_dash-update-component HTTP/1.1\u001b[0m\" 200 -\n",
      "192.168.2.96 - - [05/May/2020 20:51:40] \"\u001b[37mPOST /_dash-update-component HTTP/1.1\u001b[0m\" 200 -\n",
      "192.168.2.96 - - [05/May/2020 20:51:46] \"\u001b[37mPOST /_dash-update-component HTTP/1.1\u001b[0m\" 200 -\n",
      "192.168.2.96 - - [05/May/2020 20:51:49] \"\u001b[37mPOST /_dash-update-component HTTP/1.1\u001b[0m\" 200 -\n",
      "192.168.2.96 - - [05/May/2020 20:51:50] \"\u001b[37mPOST /_dash-update-component HTTP/1.1\u001b[0m\" 200 -\n",
      "192.168.2.96 - - [05/May/2020 20:51:56] \"\u001b[37mPOST /_dash-update-component HTTP/1.1\u001b[0m\" 200 -\n",
      "192.168.2.96 - - [05/May/2020 20:52:13] \"\u001b[37mPOST /_dash-update-component HTTP/1.1\u001b[0m\" 200 -\n",
      "192.168.2.96 - - [05/May/2020 20:52:20] \"\u001b[37mPOST /_dash-update-component HTTP/1.1\u001b[0m\" 200 -\n",
      "192.168.2.96 - - [05/May/2020 20:52:30] \"\u001b[37mPOST /_dash-update-component HTTP/1.1\u001b[0m\" 200 -\n"
     ]
    }
   ],
   "source": [
    "app.run_server(host='0.0.0.0')"
   ]
  },
  {
   "cell_type": "code",
   "execution_count": null,
   "metadata": {},
   "outputs": [],
   "source": []
  }
 ],
 "metadata": {
  "kernelspec": {
   "display_name": "Python 3",
   "language": "python",
   "name": "python3"
  },
  "language_info": {
   "codemirror_mode": {
    "name": "ipython",
    "version": 3
   },
   "file_extension": ".py",
   "mimetype": "text/x-python",
   "name": "python",
   "nbconvert_exporter": "python",
   "pygments_lexer": "ipython3",
   "version": "3.8.2"
  }
 },
 "nbformat": 4,
 "nbformat_minor": 4
}
