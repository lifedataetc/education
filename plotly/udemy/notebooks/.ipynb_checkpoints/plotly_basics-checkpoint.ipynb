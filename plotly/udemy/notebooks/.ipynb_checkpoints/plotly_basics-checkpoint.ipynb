{
 "cells": [
  {
   "cell_type": "code",
   "execution_count": 1,
   "metadata": {},
   "outputs": [],
   "source": [
    "from support_funcs import *\n",
    "import numpy as np\n",
    "import plotly.offline as pyo\n",
    "import plotly.graph_objs as go"
   ]
  },
  {
   "cell_type": "code",
   "execution_count": 2,
   "metadata": {},
   "outputs": [],
   "source": [
    "df = get_yield_curves()"
   ]
  },
  {
   "cell_type": "code",
   "execution_count": null,
   "metadata": {},
   "outputs": [],
   "source": [
    "df.head()"
   ]
  },
  {
   "cell_type": "code",
   "execution_count": 3,
   "metadata": {},
   "outputs": [],
   "source": [
    "melted_df = pd.melt(df, id_vars=['date'], value_vars=['1_m', '3_m','6_m','1_y','2_y',\n",
    "                                   '3_y','5_y','7_y','10_y','20_y','30_y'])\n",
    "melted_df.columns = ['date','term','rate']"
   ]
  },
  {
   "cell_type": "code",
   "execution_count": null,
   "metadata": {},
   "outputs": [],
   "source": [
    "melted_df.head()"
   ]
  },
  {
   "cell_type": "markdown",
   "metadata": {},
   "source": [
    "## Scatter Plot"
   ]
  },
  {
   "cell_type": "code",
   "execution_count": null,
   "metadata": {},
   "outputs": [],
   "source": [
    "data = [go.Scattergl(x=df['10_y'],y=df['30_y'],mode='lines+markers',\n",
    "                     marker=dict(\n",
    "                         size=12,\n",
    "                         color='rgb(51,204,255)',\n",
    "                         symbol='diamond-tall-open-dot',\n",
    "                         line=dict(width=1)\n",
    "                     ))]\n",
    "layout = go.Layout(title='10 yr rate vs 30 yr rate', \n",
    "                   xaxis=dict(title='10 yr'),yaxis=dict(title='30 yr'), \n",
    "                   hovermode='closest')\n",
    "fig = go.Figure(data=data,layout=layout)\n",
    "pyo.plot(fig)"
   ]
  },
  {
   "cell_type": "markdown",
   "metadata": {},
   "source": [
    "## Line Plot "
   ]
  },
  {
   "cell_type": "code",
   "execution_count": null,
   "metadata": {},
   "outputs": [],
   "source": [
    "def plot_tenor(tenor):\n",
    "    df_temp = df[df[tenor].first_valid_index():]\n",
    "    trace0 = go.Scattergl(x=df_temp['date'],\n",
    "                         y=df_temp[tenor],mode='lines+markers',\n",
    "                         name='lines',\n",
    "                         line=dict(\n",
    "                             color='rgb(0, 54, 135)',\n",
    "                             width=1),\n",
    "                         marker=dict(\n",
    "                             color='rgb(0, 0, 0)',\n",
    "                             opacity=0.1,\n",
    "                             size=.5)\n",
    "                         )\n",
    "    \n",
    "    data = [trace0]\n",
    "    tenor,horizon = tenor.split('_')\n",
    "    if horizon == 'y':\n",
    "        label = tenor + ' year yield'\n",
    "    else:\n",
    "        label = tenor + ' month yield'\n",
    "    layout = go.Layout(title=label, \n",
    "                       xaxis=dict(title='Date'),yaxis=dict(title=label), \n",
    "                       hovermode='closest')\n",
    "    fig = go.Figure(data=data,layout=layout)\n",
    "    pyo.plot(fig)"
   ]
  },
  {
   "cell_type": "code",
   "execution_count": null,
   "metadata": {},
   "outputs": [],
   "source": [
    "plot_tenor('6_m')"
   ]
  },
  {
   "cell_type": "markdown",
   "metadata": {},
   "source": [
    "## Using Pandas (already done)"
   ]
  },
  {
   "cell_type": "code",
   "execution_count": null,
   "metadata": {},
   "outputs": [],
   "source": [
    "df = pd.read_csv('../Plotly-Dashboards-with-Dash/SourceData/nst-est2017-alldata.csv')"
   ]
  },
  {
   "cell_type": "code",
   "execution_count": null,
   "metadata": {},
   "outputs": [],
   "source": [
    "df2 = df[df['DIVISION'] == '1']\n",
    "df2.set_index('NAME',inplace=True)\n",
    "df2 = df2[[col for col in df2.columns if col.startswith('POP')]]"
   ]
  },
  {
   "cell_type": "code",
   "execution_count": null,
   "metadata": {},
   "outputs": [],
   "source": [
    "data = [go.Scattergl(x=df2.columns,y=df2.loc[name],\n",
    "                     mode='lines+markers',name=name) for name in df2.index]\n",
    "\n",
    "pyo.plot(data)"
   ]
  },
  {
   "cell_type": "code",
   "execution_count": 4,
   "metadata": {},
   "outputs": [],
   "source": [
    "def tenor_laber_maker(tenor):\n",
    "    tenor,horizon = tenor.split('_')\n",
    "    if horizon == 'y':\n",
    "        label = tenor + ' year yield'\n",
    "    else:\n",
    "        label = tenor + ' month yield'\n",
    "        \n",
    "    return(label)\n",
    "\n",
    "# create multiple tenor curves\n",
    "def rate_trace_maker(tenor,df):\n",
    "    trace = go.Scattergl(x=df['date'],\n",
    "                         y=df[tenor],mode='lines',\n",
    "                         name=tenor_laber_maker(tenor),\n",
    "                         )\n",
    "    return(trace)\n",
    "\n",
    "def plot_tenors(traces):\n",
    "    \n",
    "    layout = go.Layout(title='Multiple Rate Plots', \n",
    "                       xaxis=dict(title='Date'),yaxis=dict(title='Rate'), \n",
    "                       hovermode='closest')\n",
    "    fig = go.Figure(data=traces,layout=layout)\n",
    "    pyo.plot(fig)\n",
    "    "
   ]
  },
  {
   "cell_type": "code",
   "execution_count": 5,
   "metadata": {},
   "outputs": [],
   "source": [
    "tenors = ['1_m','6_m','10_y','30_y']"
   ]
  },
  {
   "cell_type": "code",
   "execution_count": 6,
   "metadata": {},
   "outputs": [],
   "source": [
    "traces = []\n",
    "for tenor in tenors:\n",
    "    temp = rate_trace_maker(tenor,df)\n",
    "    traces.append(temp)"
   ]
  },
  {
   "cell_type": "code",
   "execution_count": 7,
   "metadata": {},
   "outputs": [],
   "source": [
    "plot_tenors(traces)"
   ]
  },
  {
   "cell_type": "markdown",
   "metadata": {},
   "source": [
    "## Bar Charts"
   ]
  },
  {
   "cell_type": "code",
   "execution_count": null,
   "metadata": {},
   "outputs": [],
   "source": [
    "# get covid19 data\n",
    "import pandas as pd\n",
    "import io\n",
    "import requests\n",
    "url='https://raw.githubusercontent.com/nytimes/covid-19-data/master/us-counties.csv'\n",
    "s=requests.get(url).content\n",
    "df=pd.read_csv(io.StringIO(s.decode('utf-8')))"
   ]
  },
  {
   "cell_type": "code",
   "execution_count": null,
   "metadata": {},
   "outputs": [],
   "source": [
    "df_sum = df.groupby(by='state').agg(max).reset_index()[['state','cases','deaths']]"
   ]
  },
  {
   "cell_type": "code",
   "execution_count": null,
   "metadata": {},
   "outputs": [],
   "source": [
    "df_sum.sort_values(by=['deaths','cases'],ascending=False,inplace=True)"
   ]
  },
  {
   "cell_type": "code",
   "execution_count": null,
   "metadata": {},
   "outputs": [],
   "source": [
    "trace1 = go.Bar(x=df_sum['state'],y=df_sum['deaths'],\n",
    "                marker=dict(color='#a60000'),name='Deaths')\n",
    "trace2 = go.Bar(x=df_sum['state'],y=df_sum['cases'],\n",
    "                marker=dict(color='#ebab34'),name='Cases')\n",
    "\n",
    "data = [trace1,trace2]\n",
    "layout = go.Layout(title='Total CCP Virus Deaths in US States',\n",
    "                   xaxis=dict(title='State'),yaxis=dict(title='Total Deaths'),\n",
    "                   barmode='stack')\n",
    "fig = go.Figure(data=data,layout=layout)\n",
    "pyo.plot(fig)"
   ]
  },
  {
   "cell_type": "markdown",
   "metadata": {},
   "source": [
    "## Bubble Charts"
   ]
  },
  {
   "cell_type": "code",
   "execution_count": null,
   "metadata": {},
   "outputs": [],
   "source": [
    "tickers = ['AAPL', 'MSFT', 'NDAQ']\n",
    "date = { 'gte': '2015-12-31', 'lte': '2020-04-15' }"
   ]
  },
  {
   "cell_type": "code",
   "execution_count": null,
   "metadata": {},
   "outputs": [],
   "source": [
    "import quandl as qd\n",
    "\n",
    "def get_ticker_data(tickers,date):\n",
    "    qd.ApiConfig.api_key = 'sy31ewCypsNZeYvWPmx_'\n",
    "\n",
    "    # get the table for daily stock prices and,\n",
    "    # filter the table for selected tickers, columns within a time range\n",
    "    # set paginate to True because Quandl limits tables API to 10,000 rows per call\n",
    "\n",
    "    data = qd.get_table('WIKI/PRICES', ticker = tickers, \n",
    "                            qopts = { 'columns': ['ticker', 'date', 'adj_close'] }, \n",
    "                            date = date, \n",
    "                            paginate=True)\n",
    "\n",
    "    data.set_index('date',inplace=True)\n",
    "    data = data.pivot(columns='ticker')\n",
    "\n",
    "    data['AAPL_return']=data.adj_close.AAPL.pct_change()\n",
    "    data['MSFT_return']=data.adj_close.MSFT.pct_change()\n",
    "    data['NDAQ_return']=data.adj_close.NDAQ.pct_change()\n",
    "    \n",
    "\n",
    "    return(data)"
   ]
  },
  {
   "cell_type": "code",
   "execution_count": null,
   "metadata": {},
   "outputs": [],
   "source": [
    "df = pd.read_csv('../Plotly-Dashboards-with-Dash/Data/mpg.csv')"
   ]
  },
  {
   "cell_type": "code",
   "execution_count": null,
   "metadata": {},
   "outputs": [],
   "source": [
    "df['cylinders'] = df['cylinders'].astype('category')"
   ]
  },
  {
   "cell_type": "code",
   "execution_count": null,
   "metadata": {},
   "outputs": [],
   "source": [
    "traces = []\n",
    "unique_cyls = list(df.cylinders.unique())\n",
    "for cyl in unique_cyls:\n",
    "    df_temp = df[df.cylinders==cyl]\n",
    "    trace = go.Scattergl(y=df_temp['horsepower'],x=df_temp['mpg'],text=df_temp['name'],mode='markers',\n",
    "                     marker=dict(size=df['weight']/200),name=str(cyl) + ' Cylinders',)\n",
    "    traces.append(trace)"
   ]
  },
  {
   "cell_type": "code",
   "execution_count": null,
   "metadata": {},
   "outputs": [],
   "source": [
    "layout = go.Layout(title='Bubble Chart',xaxis=dict(title='MPG'),yaxis=dict(title='HP'))\n",
    "fig = go.Figure(data=traces,layout=layout)\n",
    "pyo.plot(fig)"
   ]
  },
  {
   "cell_type": "markdown",
   "metadata": {},
   "source": [
    "## Box Plots"
   ]
  },
  {
   "cell_type": "code",
   "execution_count": null,
   "metadata": {},
   "outputs": [],
   "source": [
    "tickers = ['AAPL', 'MSFT', 'NDAQ']\n",
    "date = { 'gte': '2015-12-31', 'lte': '2020-04-15' }"
   ]
  },
  {
   "cell_type": "code",
   "execution_count": null,
   "metadata": {},
   "outputs": [],
   "source": [
    "returns = get_ticker_data(tickers,date)"
   ]
  },
  {
   "cell_type": "code",
   "execution_count": null,
   "metadata": {},
   "outputs": [],
   "source": [
    "trace1 = go.Box(y=returns.AAPL_return,boxpoints='all',jitter=0.5,pointpos=0)\n",
    "trace2 = go.Box(y=returns.NDAQ_return,boxpoints='all',jitter=0.5,pointpos=0)"
   ]
  },
  {
   "cell_type": "code",
   "execution_count": null,
   "metadata": {},
   "outputs": [],
   "source": [
    "pyo.plot([trace1,trace2])"
   ]
  },
  {
   "cell_type": "markdown",
   "metadata": {},
   "source": [
    "## Histograms"
   ]
  },
  {
   "cell_type": "code",
   "execution_count": null,
   "metadata": {},
   "outputs": [],
   "source": [
    "trace1 = go.Histogram(x=returns.AAPL_return,name='AAPL',xbins=dict(size=0.001))\n",
    "trace2 = go.Histogram(x=returns.NDAQ_return,name='NDAQ',xbins=dict(size=0.001))\n",
    "trace3 = go.Histogram(x=returns.MSFT_return,name='MSFT',xbins=dict(size=0.001))"
   ]
  },
  {
   "cell_type": "code",
   "execution_count": null,
   "metadata": {},
   "outputs": [],
   "source": [
    "pyo.plot([trace1,trace2])"
   ]
  },
  {
   "cell_type": "code",
   "execution_count": null,
   "metadata": {},
   "outputs": [],
   "source": [
    "fig = make_subplots(rows=1,cols=3,subplot_titles=['AAPL','NDAQ','MSFT'],\n",
    "                          shared_yaxes=True)\n",
    "fig.append_trace(trace1,1,1)\n",
    "fig.append_trace(trace2,1,2)\n",
    "fig.append_trace(trace3,1,3)\n",
    "pyo.plot(fig)"
   ]
  },
  {
   "cell_type": "markdown",
   "metadata": {},
   "source": [
    "## Distribution Plots"
   ]
  },
  {
   "cell_type": "code",
   "execution_count": null,
   "metadata": {},
   "outputs": [],
   "source": [
    "import plotly.figure_factory as ff"
   ]
  },
  {
   "cell_type": "code",
   "execution_count": null,
   "metadata": {},
   "outputs": [],
   "source": [
    "hdata = [returns.AAPL_return.dropna(),returns.NDAQ_return.dropna(),returns.MSFT_return.dropna()]"
   ]
  },
  {
   "cell_type": "code",
   "execution_count": null,
   "metadata": {},
   "outputs": [],
   "source": [
    "fig = ff.create_distplot(hist_data=hdata,\n",
    "                         group_labels=['AAPL','NDAQ','MSFT'],bin_size=0.001)\n",
    "pyo.plot(fig)"
   ]
  },
  {
   "cell_type": "markdown",
   "metadata": {},
   "source": [
    "## Heatmaps"
   ]
  },
  {
   "cell_type": "code",
   "execution_count": null,
   "metadata": {},
   "outputs": [],
   "source": [
    "df1 = pd.read_csv('../Plotly-Dashboards-with-Dash/Data/2010YumaAZ.csv')\n",
    "df2 = pd.read_csv('../Plotly-Dashboards-with-Dash/Data/2010SitkaAK.csv')\n",
    "df3 = pd.read_csv('../Plotly-Dashboards-with-Dash/Data/2010SantaBarbaraCA.csv')"
   ]
  },
  {
   "cell_type": "code",
   "execution_count": null,
   "metadata": {},
   "outputs": [],
   "source": [
    "trace1 = go.Heatmap(x=df1['DAY'],y=df1['LST_TIME'],z=df1['T_HR_AVG'],zmin=4,zmax=40)\n",
    "trace2 = go.Heatmap(x=df2['DAY'],y=df2['LST_TIME'],z=df2['T_HR_AVG'],zmin=4,zmax=40)\n",
    "trace3 = go.Heatmap(x=df3['DAY'],y=df3['LST_TIME'],z=df3['T_HR_AVG'],zmin=4,zmax=40)"
   ]
  },
  {
   "cell_type": "markdown",
   "metadata": {},
   "source": [
    "### Subplots"
   ]
  },
  {
   "cell_type": "code",
   "execution_count": null,
   "metadata": {},
   "outputs": [],
   "source": [
    "from plotly.subplots import make_subplots"
   ]
  },
  {
   "cell_type": "code",
   "execution_count": null,
   "metadata": {},
   "outputs": [],
   "source": [
    "fig = make_subplots(rows=1,cols=3,subplot_titles=['Yuma','Sitka','Santa Barbara'],\n",
    "                          shared_yaxes=True)\n",
    "fig.append_trace(trace1,1,1)\n",
    "fig.append_trace(trace2,1,2)\n",
    "fig.append_trace(trace3,1,3)\n",
    "fig['layout'].update(title='Temps')\n",
    "pyo.plot(fig)"
   ]
  },
  {
   "cell_type": "code",
   "execution_count": null,
   "metadata": {},
   "outputs": [],
   "source": [
    "layout=go.Layout(title='Temps')\n",
    "fig = go.Figure([trace1],layout=layout)\n",
    "pyo.plot(fig)"
   ]
  },
  {
   "cell_type": "code",
   "execution_count": null,
   "metadata": {},
   "outputs": [],
   "source": [
    "a"
   ]
  }
 ],
 "metadata": {
  "kernelspec": {
   "display_name": "Python 3",
   "language": "python",
   "name": "python3"
  },
  "language_info": {
   "codemirror_mode": {
    "name": "ipython",
    "version": 3
   },
   "file_extension": ".py",
   "mimetype": "text/x-python",
   "name": "python",
   "nbconvert_exporter": "python",
   "pygments_lexer": "ipython3",
   "version": "3.7.7"
  }
 },
 "nbformat": 4,
 "nbformat_minor": 4
}
