{
 "cells": [
  {
   "cell_type": "code",
   "execution_count": 3,
   "metadata": {},
   "outputs": [],
   "source": [
    "from support_funcs import *\n",
    "import numpy as np\n",
    "import plotly.offline as pyo\n",
    "import plotly.graph_objs as go"
   ]
  },
  {
   "cell_type": "code",
   "execution_count": 21,
   "metadata": {},
   "outputs": [],
   "source": [
    "df = get_yield_curves()"
   ]
  },
  {
   "cell_type": "code",
   "execution_count": 5,
   "metadata": {},
   "outputs": [
    {
     "data": {
      "text/html": [
       "<div>\n",
       "<style scoped>\n",
       "    .dataframe tbody tr th:only-of-type {\n",
       "        vertical-align: middle;\n",
       "    }\n",
       "\n",
       "    .dataframe tbody tr th {\n",
       "        vertical-align: top;\n",
       "    }\n",
       "\n",
       "    .dataframe thead th {\n",
       "        text-align: right;\n",
       "    }\n",
       "</style>\n",
       "<table border=\"1\" class=\"dataframe\">\n",
       "  <thead>\n",
       "    <tr style=\"text-align: right;\">\n",
       "      <th></th>\n",
       "      <th>date</th>\n",
       "      <th>1_m</th>\n",
       "      <th>3_m</th>\n",
       "      <th>6_m</th>\n",
       "      <th>1_y</th>\n",
       "      <th>2_y</th>\n",
       "      <th>3_y</th>\n",
       "      <th>5_y</th>\n",
       "      <th>7_y</th>\n",
       "      <th>10_y</th>\n",
       "      <th>20_y</th>\n",
       "      <th>30_y</th>\n",
       "    </tr>\n",
       "  </thead>\n",
       "  <tbody>\n",
       "    <tr>\n",
       "      <th>0</th>\n",
       "      <td>1962-01-02</td>\n",
       "      <td>NaN</td>\n",
       "      <td>NaN</td>\n",
       "      <td>NaN</td>\n",
       "      <td>3.22</td>\n",
       "      <td>NaN</td>\n",
       "      <td>3.70</td>\n",
       "      <td>3.88</td>\n",
       "      <td>NaN</td>\n",
       "      <td>4.06</td>\n",
       "      <td>NaN</td>\n",
       "      <td>NaN</td>\n",
       "    </tr>\n",
       "    <tr>\n",
       "      <th>1</th>\n",
       "      <td>1962-01-03</td>\n",
       "      <td>NaN</td>\n",
       "      <td>NaN</td>\n",
       "      <td>NaN</td>\n",
       "      <td>3.24</td>\n",
       "      <td>NaN</td>\n",
       "      <td>3.70</td>\n",
       "      <td>3.87</td>\n",
       "      <td>NaN</td>\n",
       "      <td>4.03</td>\n",
       "      <td>NaN</td>\n",
       "      <td>NaN</td>\n",
       "    </tr>\n",
       "    <tr>\n",
       "      <th>2</th>\n",
       "      <td>1962-01-04</td>\n",
       "      <td>NaN</td>\n",
       "      <td>NaN</td>\n",
       "      <td>NaN</td>\n",
       "      <td>3.24</td>\n",
       "      <td>NaN</td>\n",
       "      <td>3.69</td>\n",
       "      <td>3.86</td>\n",
       "      <td>NaN</td>\n",
       "      <td>3.99</td>\n",
       "      <td>NaN</td>\n",
       "      <td>NaN</td>\n",
       "    </tr>\n",
       "    <tr>\n",
       "      <th>3</th>\n",
       "      <td>1962-01-05</td>\n",
       "      <td>NaN</td>\n",
       "      <td>NaN</td>\n",
       "      <td>NaN</td>\n",
       "      <td>3.26</td>\n",
       "      <td>NaN</td>\n",
       "      <td>3.71</td>\n",
       "      <td>3.89</td>\n",
       "      <td>NaN</td>\n",
       "      <td>4.02</td>\n",
       "      <td>NaN</td>\n",
       "      <td>NaN</td>\n",
       "    </tr>\n",
       "    <tr>\n",
       "      <th>4</th>\n",
       "      <td>1962-01-06</td>\n",
       "      <td>NaN</td>\n",
       "      <td>NaN</td>\n",
       "      <td>NaN</td>\n",
       "      <td>3.26</td>\n",
       "      <td>NaN</td>\n",
       "      <td>3.71</td>\n",
       "      <td>3.89</td>\n",
       "      <td>NaN</td>\n",
       "      <td>4.02</td>\n",
       "      <td>NaN</td>\n",
       "      <td>NaN</td>\n",
       "    </tr>\n",
       "  </tbody>\n",
       "</table>\n",
       "</div>"
      ],
      "text/plain": [
       "         date  1_m  3_m  6_m   1_y  2_y   3_y   5_y  7_y  10_y  20_y  30_y\n",
       "0  1962-01-02  NaN  NaN  NaN  3.22  NaN  3.70  3.88  NaN  4.06   NaN   NaN\n",
       "1  1962-01-03  NaN  NaN  NaN  3.24  NaN  3.70  3.87  NaN  4.03   NaN   NaN\n",
       "2  1962-01-04  NaN  NaN  NaN  3.24  NaN  3.69  3.86  NaN  3.99   NaN   NaN\n",
       "3  1962-01-05  NaN  NaN  NaN  3.26  NaN  3.71  3.89  NaN  4.02   NaN   NaN\n",
       "4  1962-01-06  NaN  NaN  NaN  3.26  NaN  3.71  3.89  NaN  4.02   NaN   NaN"
      ]
     },
     "execution_count": 5,
     "metadata": {},
     "output_type": "execute_result"
    }
   ],
   "source": [
    "df.head()"
   ]
  },
  {
   "cell_type": "code",
   "execution_count": 6,
   "metadata": {},
   "outputs": [],
   "source": [
    "melted_df = pd.melt(df, id_vars=['date'], value_vars=['1_m', '3_m','6_m','1_y','2_y',\n",
    "                                   '3_y','5_y','7_y','10_y','20_y','30_y'])\n",
    "melted_df.columns = ['date','term','rate']"
   ]
  },
  {
   "cell_type": "code",
   "execution_count": 7,
   "metadata": {},
   "outputs": [
    {
     "data": {
      "text/html": [
       "<div>\n",
       "<style scoped>\n",
       "    .dataframe tbody tr th:only-of-type {\n",
       "        vertical-align: middle;\n",
       "    }\n",
       "\n",
       "    .dataframe tbody tr th {\n",
       "        vertical-align: top;\n",
       "    }\n",
       "\n",
       "    .dataframe thead th {\n",
       "        text-align: right;\n",
       "    }\n",
       "</style>\n",
       "<table border=\"1\" class=\"dataframe\">\n",
       "  <thead>\n",
       "    <tr style=\"text-align: right;\">\n",
       "      <th></th>\n",
       "      <th>date</th>\n",
       "      <th>term</th>\n",
       "      <th>rate</th>\n",
       "    </tr>\n",
       "  </thead>\n",
       "  <tbody>\n",
       "    <tr>\n",
       "      <th>0</th>\n",
       "      <td>1962-01-02</td>\n",
       "      <td>1_m</td>\n",
       "      <td>NaN</td>\n",
       "    </tr>\n",
       "    <tr>\n",
       "      <th>1</th>\n",
       "      <td>1962-01-03</td>\n",
       "      <td>1_m</td>\n",
       "      <td>NaN</td>\n",
       "    </tr>\n",
       "    <tr>\n",
       "      <th>2</th>\n",
       "      <td>1962-01-04</td>\n",
       "      <td>1_m</td>\n",
       "      <td>NaN</td>\n",
       "    </tr>\n",
       "    <tr>\n",
       "      <th>3</th>\n",
       "      <td>1962-01-05</td>\n",
       "      <td>1_m</td>\n",
       "      <td>NaN</td>\n",
       "    </tr>\n",
       "    <tr>\n",
       "      <th>4</th>\n",
       "      <td>1962-01-06</td>\n",
       "      <td>1_m</td>\n",
       "      <td>NaN</td>\n",
       "    </tr>\n",
       "  </tbody>\n",
       "</table>\n",
       "</div>"
      ],
      "text/plain": [
       "         date term  rate\n",
       "0  1962-01-02  1_m   NaN\n",
       "1  1962-01-03  1_m   NaN\n",
       "2  1962-01-04  1_m   NaN\n",
       "3  1962-01-05  1_m   NaN\n",
       "4  1962-01-06  1_m   NaN"
      ]
     },
     "execution_count": 7,
     "metadata": {},
     "output_type": "execute_result"
    }
   ],
   "source": [
    "melted_df.head()"
   ]
  },
  {
   "cell_type": "markdown",
   "metadata": {},
   "source": [
    "## Scatter Plot"
   ]
  },
  {
   "cell_type": "code",
   "execution_count": null,
   "metadata": {},
   "outputs": [],
   "source": [
    "data = [go.Scattergl(x=df['10_y'],y=df['30_y'],mode='lines+markers',\n",
    "                     marker=dict(\n",
    "                         size=12,\n",
    "                         color='rgb(51,204,255)',\n",
    "                         symbol='diamond-tall-open-dot',\n",
    "                         line=dict(width=1)\n",
    "                     ))]\n",
    "layout = go.Layout(title='10 yr rate vs 30 yr rate', \n",
    "                   xaxis=dict(title='10 yr'),yaxis=dict(title='30 yr'), \n",
    "                   hovermode='closest')\n",
    "fig = go.Figure(data=data,layout=layout)\n",
    "pyo.plot(fig)"
   ]
  },
  {
   "cell_type": "markdown",
   "metadata": {},
   "source": [
    "## Line Plot "
   ]
  },
  {
   "cell_type": "code",
   "execution_count": null,
   "metadata": {},
   "outputs": [],
   "source": [
    "def plot_tenor(tenor):\n",
    "    df_temp = df[df[tenor].first_valid_index():]\n",
    "    trace0 = go.Scattergl(x=df_temp['date'],\n",
    "                         y=df_temp[tenor],mode='lines+markers',\n",
    "                         name='lines',\n",
    "                         line=dict(\n",
    "                             color='rgb(0, 54, 135)',\n",
    "                             width=1),\n",
    "                         marker=dict(\n",
    "                             color='rgb(0, 0, 0)',\n",
    "                             opacity=0.1,\n",
    "                             size=.5)\n",
    "                         )\n",
    "    \n",
    "    data = [trace0]\n",
    "    tenor,horizon = tenor.split('_')\n",
    "    if horizon == 'y':\n",
    "        label = tenor + ' year yield'\n",
    "    else:\n",
    "        label = tenor + ' month yield'\n",
    "    layout = go.Layout(title=label, \n",
    "                       xaxis=dict(title='Date'),yaxis=dict(title=label), \n",
    "                       hovermode='closest')\n",
    "    fig = go.Figure(data=data,layout=layout)\n",
    "    pyo.plot(fig)"
   ]
  },
  {
   "cell_type": "code",
   "execution_count": null,
   "metadata": {},
   "outputs": [],
   "source": [
    "plot_tenor('6_m')"
   ]
  },
  {
   "cell_type": "markdown",
   "metadata": {},
   "source": [
    "## Using Pandas (already done)"
   ]
  },
  {
   "cell_type": "code",
   "execution_count": 8,
   "metadata": {},
   "outputs": [],
   "source": [
    "df = pd.read_csv('../Plotly-Dashboards-with-Dash/SourceData/nst-est2017-alldata.csv')"
   ]
  },
  {
   "cell_type": "code",
   "execution_count": 9,
   "metadata": {},
   "outputs": [],
   "source": [
    "df2 = df[df['DIVISION'] == '1']\n",
    "df2.set_index('NAME',inplace=True)\n",
    "df2 = df2[[col for col in df2.columns if col.startswith('POP')]]"
   ]
  },
  {
   "cell_type": "code",
   "execution_count": 12,
   "metadata": {},
   "outputs": [
    {
     "data": {
      "text/plain": [
       "'temp-plot.html'"
      ]
     },
     "execution_count": 12,
     "metadata": {},
     "output_type": "execute_result"
    }
   ],
   "source": [
    "data = [go.Scattergl(x=df2.columns,y=df2.loc[name],\n",
    "                     mode='lines+markers',name=name) for name in df2.index]\n",
    "\n",
    "pyo.plot(data)"
   ]
  },
  {
   "cell_type": "code",
   "execution_count": 57,
   "metadata": {},
   "outputs": [],
   "source": [
    "def tenor_laber_maker(tenor):\n",
    "    tenor,horizon = tenor.split('_')\n",
    "    if horizon == 'y':\n",
    "        label = tenor + ' year yield'\n",
    "    else:\n",
    "        label = tenor + ' month yield'\n",
    "        \n",
    "    return(label)\n",
    "\n",
    "# create multiple tenor curves\n",
    "def rate_trace_maker(tenor,df):\n",
    "    trace = go.Scattergl(x=df['date'],\n",
    "                         y=df[tenor],mode='lines',\n",
    "                         name=tenor_laber_maker(tenor),\n",
    "                         )\n",
    "    return(trace)\n",
    "\n",
    "def plot_tenors(traces):\n",
    "    \n",
    "    layout = go.Layout(title='Multiple Rate Plots', \n",
    "                       xaxis=dict(title='Date'),yaxis=dict(title='Rate'), \n",
    "                       hovermode='closest')\n",
    "    fig = go.Figure(data=traces,layout=layout)\n",
    "    pyo.plot(fig)\n",
    "    "
   ]
  },
  {
   "cell_type": "code",
   "execution_count": 58,
   "metadata": {},
   "outputs": [],
   "source": [
    "tenors = ['1_m','6_m','10_y','30_y']"
   ]
  },
  {
   "cell_type": "code",
   "execution_count": 59,
   "metadata": {},
   "outputs": [],
   "source": [
    "traces = []\n",
    "for tenor in tenors:\n",
    "    temp = rate_trace_maker(tenor,df)\n",
    "    traces.append(temp)"
   ]
  },
  {
   "cell_type": "code",
   "execution_count": 61,
   "metadata": {},
   "outputs": [],
   "source": [
    "plot_tenors(traces)"
   ]
  },
  {
   "cell_type": "markdown",
   "metadata": {},
   "source": [
    "## Bar Charts"
   ]
  },
  {
   "cell_type": "code",
   "execution_count": 68,
   "metadata": {},
   "outputs": [],
   "source": [
    "# get covid19 data\n",
    "import pandas as pd\n",
    "import io\n",
    "import requests\n",
    "url='https://raw.githubusercontent.com/nytimes/covid-19-data/master/us-counties.csv'\n",
    "s=requests.get(url).content\n",
    "df=pd.read_csv(io.StringIO(s.decode('utf-8')))"
   ]
  },
  {
   "cell_type": "code",
   "execution_count": 77,
   "metadata": {},
   "outputs": [],
   "source": [
    "df_sum = df.groupby(by='state').agg(max).reset_index()[['state','cases','deaths']]"
   ]
  },
  {
   "cell_type": "code",
   "execution_count": 96,
   "metadata": {},
   "outputs": [],
   "source": [
    "df_sum.sort_values(by=['deaths','cases'],ascending=False,inplace=True)"
   ]
  },
  {
   "cell_type": "code",
   "execution_count": 99,
   "metadata": {},
   "outputs": [
    {
     "data": {
      "text/plain": [
       "'temp-plot.html'"
      ]
     },
     "execution_count": 99,
     "metadata": {},
     "output_type": "execute_result"
    }
   ],
   "source": [
    "trace1 = go.Bar(x=df_sum['state'],y=df_sum['deaths'],\n",
    "                marker=dict(color='#a60000'),name='Deaths')\n",
    "trace2 = go.Bar(x=df_sum['state'],y=df_sum['cases'],\n",
    "                marker=dict(color='#ebab34'),name='Cases')\n",
    "\n",
    "data = [trace1,trace2]\n",
    "layout = go.Layout(title='Total CCP Virus Deaths in US States',\n",
    "                   xaxis=dict(title='State'),yaxis=dict(title='Total Deaths'),\n",
    "                   barmode='stack')\n",
    "fig = go.Figure(data=data,layout=layout)\n",
    "pyo.plot(fig)"
   ]
  },
  {
   "cell_type": "markdown",
   "metadata": {},
   "source": [
    "## Bubble Charts"
   ]
  },
  {
   "cell_type": "code",
   "execution_count": 100,
   "metadata": {},
   "outputs": [],
   "source": [
    "import quandl as qd\n",
    "\n",
    "qd.ApiConfig.api_key = 'sy31ewCypsNZeYvWPmx_'\n",
    "\n",
    "# get the table for daily stock prices and,\n",
    "# filter the table for selected tickers, columns within a time range\n",
    "# set paginate to True because Quandl limits tables API to 10,000 rows per call\n",
    "\n",
    "data = qd.get_table('WIKI/PRICES', ticker = ['AAPL', 'MSFT', 'NDAQ'], \n",
    "                        qopts = { 'columns': ['ticker', 'date', 'adj_close'] }, \n",
    "                        date = { 'gte': '2015-12-31', 'lte': '2020-04-15' }, \n",
    "                        paginate=True)\n",
    "\n",
    "data.set_index('date',inplace=True)\n",
    "data = data.pivot(columns='ticker')\n",
    "\n",
    "data['AAPL_return']=data.adj_close.AAPL.pct_change()\n",
    "data['MSFT_return']=data.adj_close.MSFT.pct_change()\n",
    "data['NDAQ_return']=data.adj_close.NDAQ.pct_change()"
   ]
  },
  {
   "cell_type": "code",
   "execution_count": null,
   "metadata": {},
   "outputs": [],
   "source": []
  },
  {
   "cell_type": "code",
   "execution_count": null,
   "metadata": {},
   "outputs": [],
   "source": []
  },
  {
   "cell_type": "code",
   "execution_count": null,
   "metadata": {},
   "outputs": [],
   "source": []
  },
  {
   "cell_type": "code",
   "execution_count": null,
   "metadata": {},
   "outputs": [],
   "source": []
  },
  {
   "cell_type": "code",
   "execution_count": null,
   "metadata": {},
   "outputs": [],
   "source": [
    "import plotly.graph_objects as go\n",
    "import plotly.express as px\n",
    "from plotly.subplots import make_subplots\n",
    "from datetime import datetime"
   ]
  },
  {
   "cell_type": "code",
   "execution_count": null,
   "metadata": {},
   "outputs": [],
   "source": [
    "melted_df['Day'] = melted_df.apply(lambda x: str(x.date),axis=1)"
   ]
  },
  {
   "cell_type": "code",
   "execution_count": null,
   "metadata": {},
   "outputs": [],
   "source": [
    "'2020-01-01,2020-02-01,2019-12-01'"
   ]
  },
  {
   "cell_type": "code",
   "execution_count": null,
   "metadata": {},
   "outputs": [],
   "source": [
    "def get_yield_curves_csv(in_dts,df):\n",
    "    temp = df[melted_df['date'].isin(dt_con_csv(in_dts))]\n",
    "    fig = px.line(temp, x=\"term\", y=\"rate\",color=\"Day\",\n",
    "                  title='Multi-Day Yield Curves',render_mode='webgl')\n",
    "    fig.show()"
   ]
  },
  {
   "cell_type": "code",
   "execution_count": null,
   "metadata": {
    "scrolled": true
   },
   "outputs": [],
   "source": [
    "print(px.line.__doc__)"
   ]
  },
  {
   "cell_type": "code",
   "execution_count": null,
   "metadata": {},
   "outputs": [],
   "source": [
    "df['ten_m_two'] = df['10_y'] - df['2_y']\n",
    "df['flag'] = (df.ten_m_two < 0)"
   ]
  },
  {
   "cell_type": "code",
   "execution_count": null,
   "metadata": {},
   "outputs": [],
   "source": [
    "fig = px.line(df[~df.ten_m_two.isna()], x=\"date\", y=\"ten_m_two\",color='flag')\n",
    "fig.show()"
   ]
  },
  {
   "cell_type": "code",
   "execution_count": null,
   "metadata": {},
   "outputs": [],
   "source": [
    "def rate_differ(dt1,dt2):"
   ]
  },
  {
   "cell_type": "code",
   "execution_count": null,
   "metadata": {},
   "outputs": [],
   "source": [
    "get_yield_curves_csv('2020-04-15,2020-03-15,2020-02-15,2019-04-15,2019-03-15,2019-02-15',melted_df)"
   ]
  },
  {
   "cell_type": "code",
   "execution_count": null,
   "metadata": {},
   "outputs": [],
   "source": [
    "def get_yield_curves(day1,day2):\n",
    "    mask = (melted_df['date'] == dt_con(day1)) | (melted_df['date'] == dt_con(day2))\n",
    "    fig = px.line(melted_df.loc[mask], x=\"term\", y=\"rate\",color=\"Day\")\n",
    "\n",
    "    fig.update_xaxes(\n",
    "        rangeslider_visible=True,\n",
    "        rangeselector=dict(\n",
    "            buttons=list([\n",
    "                dict(count=1, label=\"1m\", step=\"month\", stepmode=\"backward\"),\n",
    "                dict(count=6, label=\"6m\", step=\"month\", stepmode=\"backward\"),\n",
    "                dict(count=1, label=\"YTD\", step=\"year\", stepmode=\"todate\"),\n",
    "                dict(count=1, label=\"1y\", step=\"year\", stepmode=\"backward\"),\n",
    "                dict(step=\"all\")\n",
    "            ])\n",
    "        )\n",
    "    )\n",
    "    fig.show()"
   ]
  },
  {
   "cell_type": "code",
   "execution_count": null,
   "metadata": {},
   "outputs": [],
   "source": [
    "mask = (melted_df['date'] in dt_con('2020-04-15'))\n",
    "fig = px.line(melted_df.loc[mask], x=\"term\", y=\"rate\",color=\"Day\")\n",
    "\n",
    "fig.update_xaxes(\n",
    "    rangeslider_visible=True,\n",
    "    rangeselector=dict(\n",
    "        buttons=list([\n",
    "            dict(count=1, label=\"1m\", step=\"month\", stepmode=\"backward\"),\n",
    "            dict(count=6, label=\"6m\", step=\"month\", stepmode=\"backward\"),\n",
    "            dict(count=1, label=\"YTD\", step=\"year\", stepmode=\"todate\"),\n",
    "            dict(count=1, label=\"1y\", step=\"year\", stepmode=\"backward\"),\n",
    "            dict(step=\"all\")\n",
    "        ])\n",
    "    )\n",
    ")\n",
    "fig.update_layout(showlegend=False)\n",
    "fig.show()"
   ]
  },
  {
   "cell_type": "code",
   "execution_count": null,
   "metadata": {},
   "outputs": [],
   "source": [
    "get_yield_curves('2020-01-01','2000-01-01')"
   ]
  },
  {
   "cell_type": "code",
   "execution_count": null,
   "metadata": {},
   "outputs": [],
   "source": []
  }
 ],
 "metadata": {
  "kernelspec": {
   "display_name": "Python 3",
   "language": "python",
   "name": "python3"
  },
  "language_info": {
   "codemirror_mode": {
    "name": "ipython",
    "version": 3
   },
   "file_extension": ".py",
   "mimetype": "text/x-python",
   "name": "python",
   "nbconvert_exporter": "python",
   "pygments_lexer": "ipython3",
   "version": "3.7.7"
  }
 },
 "nbformat": 4,
 "nbformat_minor": 4
}
