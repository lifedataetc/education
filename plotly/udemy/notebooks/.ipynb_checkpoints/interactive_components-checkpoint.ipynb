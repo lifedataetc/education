{
 "cells": [
  {
   "cell_type": "markdown",
   "metadata": {},
   "source": [
    "## Single Callback for Interactivity"
   ]
  },
  {
   "cell_type": "code",
   "execution_count": null,
   "metadata": {},
   "outputs": [],
   "source": [
    "import dash\n",
    "import dash_core_components as dcc\n",
    "import dash_html_components as html\n",
    "from dash.dependencies import Input, Output"
   ]
  },
  {
   "cell_type": "code",
   "execution_count": null,
   "metadata": {},
   "outputs": [],
   "source": [
    "app = dash.Dash()"
   ]
  },
  {
   "cell_type": "code",
   "execution_count": null,
   "metadata": {},
   "outputs": [],
   "source": [
    "app.layout = html.Div([\n",
    "    \n",
    "    dcc.Input(id='in-id1',value='Init text',type='text'),\n",
    "    html.Div([html.P()],id='div-id1',style={'border':'2px blue solid'})\n",
    "    \n",
    "    \n",
    "])\n",
    "\n",
    "@app.callback(Output(component_id='div-id1',component_property='children'),\n",
    "              [Input(component_id='in-id1',component_property='value')])\n",
    "def update_output_div(in_val):\n",
    "    return('{} me?'.format(in_val) + ' Well {} you too!'.format(in_val))"
   ]
  },
  {
   "cell_type": "code",
   "execution_count": null,
   "metadata": {},
   "outputs": [],
   "source": [
    "app.run_server()"
   ]
  },
  {
   "cell_type": "markdown",
   "metadata": {},
   "source": [
    "### Callbacks for Graphs"
   ]
  },
  {
   "cell_type": "code",
   "execution_count": null,
   "metadata": {},
   "outputs": [],
   "source": [
    "import dash\n",
    "import dash_core_components as dcc\n",
    "import dash_html_components as html\n",
    "from dash.dependencies import Input, Output\n",
    "import plotly.graph_objs as go\n",
    "import plotly.offline as pyo\n",
    "import pandas as pd"
   ]
  },
  {
   "cell_type": "code",
   "execution_count": null,
   "metadata": {},
   "outputs": [],
   "source": [
    "df = pd.read_csv('../Plotly-Dashboards-with-Dash/Data/gapminderDataFiveYear.csv')"
   ]
  },
  {
   "cell_type": "code",
   "execution_count": null,
   "metadata": {},
   "outputs": [],
   "source": [
    "countries = list(map(lambda x: {'label':str(x),'value':x},df['country'].unique()))"
   ]
  },
  {
   "cell_type": "code",
   "execution_count": null,
   "metadata": {},
   "outputs": [],
   "source": [
    "app = dash.Dash()"
   ]
  },
  {
   "cell_type": "code",
   "execution_count": null,
   "metadata": {},
   "outputs": [],
   "source": [
    "app.layout = html.Div([\n",
    "    dcc.Graph(id='graph'),\n",
    "    dcc.Dropdown(id='con-picker',options = countries,value=['United States'],multi=True)\n",
    "])"
   ]
  },
  {
   "cell_type": "raw",
   "metadata": {},
   "source": [
    "sub_df = df[df['country'].isin(['United States'])]"
   ]
  },
  {
   "cell_type": "raw",
   "metadata": {},
   "source": [
    "traces = []\n",
    "for each in sub_df['continent'].unique():\n",
    "    temp = sub_df[sub_df['continent']==each]\n",
    "\n",
    "    traces.append(go.Scattergl(\n",
    "        x=temp['year'],\n",
    "        y=temp['lifeExp'],\n",
    "        mode='lines',\n",
    "        opacity=0.7,\n",
    "        name=each\n",
    "    ))\n",
    "\n",
    "fig = go.Figure({'data':traces,\n",
    "            'layout':go.Layout(\n",
    "                               xaxis={'title':'GDP Per Cap'},\n",
    "                               yaxis={'title':'Life Expentancy'})})"
   ]
  },
  {
   "cell_type": "raw",
   "metadata": {},
   "source": [
    "pyo.plot(fig)"
   ]
  },
  {
   "cell_type": "code",
   "execution_count": null,
   "metadata": {},
   "outputs": [],
   "source": [
    "@app.callback(Output('graph','figure'),\n",
    "              [Input('con-picker','value')])\n",
    "def update_figure(values):\n",
    "    sub_df = df[df['country'].isin(values)]\n",
    "    \n",
    "    traces = []\n",
    "    for each in sub_df['country'].unique():\n",
    "        temp = sub_df[sub_df['country']==each]\n",
    "\n",
    "        traces.append(go.Scattergl(\n",
    "                            x=temp['year'],\n",
    "                            y=temp['lifeExp'],\n",
    "                            mode='lines',\n",
    "                            opacity=0.7,\n",
    "                            name=each\n",
    "                        ))\n",
    "    \n",
    "    return({'data':traces,\n",
    "            'layout':go.Layout(\n",
    "                               xaxis={'title':'Year'},\n",
    "                               yaxis={'title':'Life Expentancy'})})"
   ]
  },
  {
   "cell_type": "code",
   "execution_count": null,
   "metadata": {},
   "outputs": [],
   "source": [
    "app.run_server()"
   ]
  },
  {
   "cell_type": "markdown",
   "metadata": {},
   "source": [
    "### Multiple Inputs"
   ]
  },
  {
   "cell_type": "code",
   "execution_count": null,
   "metadata": {},
   "outputs": [],
   "source": [
    "import dash\n",
    "import dash_core_components as dcc\n",
    "import dash_html_components as html\n",
    "from dash.dependencies import Input, Output\n",
    "import plotly.graph_objs as go\n",
    "import plotly.offline as pyo\n",
    "import pandas as pd"
   ]
  },
  {
   "cell_type": "code",
   "execution_count": null,
   "metadata": {},
   "outputs": [],
   "source": [
    "df = pd.read_csv('../Plotly-Dashboards-with-Dash/Data/mpg.csv')"
   ]
  },
  {
   "cell_type": "code",
   "execution_count": null,
   "metadata": {},
   "outputs": [],
   "source": [
    "app = dash.Dash()"
   ]
  },
  {
   "cell_type": "code",
   "execution_count": null,
   "metadata": {},
   "outputs": [],
   "source": [
    "features = df.columns"
   ]
  },
  {
   "cell_type": "code",
   "execution_count": null,
   "metadata": {},
   "outputs": [],
   "source": [
    "app.layout = html.Div([\n",
    "    \n",
    "    html.Div(['x-axis',\n",
    "        dcc.Dropdown(id='xaxis',\n",
    "                     options=list(map(lambda x: {'label':str(x),'value':x},features)),\n",
    "                     value='mpg')\n",
    "    ],\n",
    "        style={'width':'40%','display':'inline-block'}),\n",
    "    \n",
    "    html.Div(['y-axis',\n",
    "        dcc.Dropdown(id='yaxis',\n",
    "                     options=list(map(lambda x: {'label':str(x),'value':x},features)),\n",
    "                     value='weight')\n",
    "    ],\n",
    "        style={'width':'40%','display':'inline-block'}),\n",
    "    \n",
    "    html.Div([\n",
    "        dcc.Graph(id='feature_graph')\n",
    "    ])\n",
    "    \n",
    "],\n",
    "        style={'padding':10})"
   ]
  },
  {
   "cell_type": "code",
   "execution_count": null,
   "metadata": {},
   "outputs": [],
   "source": [
    "@app.callback(Output('feature_graph','figure'),\n",
    "              [Input('xaxis','value'),\n",
    "               Input('yaxis','value')])\n",
    "def update_graph(xaxis_name,yaxis_name):\n",
    "    \n",
    "    figure_dict = {'data':\n",
    "                   [\n",
    "                       go.Scattergl(x=df[xaxis_name],\n",
    "                                    y=df[yaxis_name],\n",
    "                                    mode='markers',\n",
    "                                    text=df['name'],\n",
    "                                    opacity=0.7,\n",
    "                                    marker={'size':15}\n",
    "                                    )\n",
    "                   ]\n",
    "                   ,\n",
    "                   'layout':go.Layout(xaxis={'title':xaxis_name},yaxis={'title':yaxis_name},\n",
    "                                      hovermode='closest')}\n",
    "    return(figure_dict)"
   ]
  },
  {
   "cell_type": "code",
   "execution_count": null,
   "metadata": {},
   "outputs": [],
   "source": [
    "app.run_server()"
   ]
  },
  {
   "cell_type": "markdown",
   "metadata": {},
   "source": [
    "### Multiple Outputs"
   ]
  },
  {
   "cell_type": "code",
   "execution_count": 1,
   "metadata": {},
   "outputs": [],
   "source": [
    "import dash\n",
    "import dash_core_components as dcc\n",
    "import dash_html_components as html\n",
    "from dash.dependencies import Input, Output\n",
    "import plotly.graph_objs as go\n",
    "import plotly.offline as pyo\n",
    "import pandas as pd\n",
    "import base64"
   ]
  },
  {
   "cell_type": "code",
   "execution_count": 6,
   "metadata": {},
   "outputs": [],
   "source": [
    "df = pd.read_csv('../Plotly-Dashboards-with-Dash/Data/wheels.csv')\n",
    "\n",
    "app = dash.Dash()\n",
    "\n",
    "# prep image\n",
    "def encode_image(image_file):\n",
    "    encoded = base64.b64encode(open(image_file,'rb').read())\n",
    "    return('data:image/png;base64,{}'.format(encoded.decode()))"
   ]
  },
  {
   "cell_type": "code",
   "execution_count": 7,
   "metadata": {},
   "outputs": [],
   "source": [
    "app.layout = html.Div([\n",
    "    dcc.RadioItems(\n",
    "        id='wheels',\n",
    "        options=[{'label': i, 'value': i} for i in df['wheels'].unique()],\n",
    "        value=1\n",
    "    ),\n",
    "    html.Div(id='wheels-output'),\n",
    "\n",
    "    html.Hr(),  # add a horizontal rule\n",
    "    dcc.RadioItems(\n",
    "        id='colors',\n",
    "        options=[{'label': i, 'value': i} for i in df['color'].unique()],\n",
    "        value='blue'\n",
    "    ),\n",
    "    html.Div(id='colors-output'),\n",
    "    html.Img(id='display-image', src='children', height=300)\n",
    "], style={'fontFamily':'helvetica', 'fontSize':18})"
   ]
  },
  {
   "cell_type": "code",
   "execution_count": 8,
   "metadata": {},
   "outputs": [],
   "source": [
    "@app.callback(\n",
    "    Output('wheels-output', 'children'),\n",
    "    [Input('wheels', 'value')])\n",
    "def callback_a(wheels_value):\n",
    "    return 'You\\'ve selected \"{}\"'.format(wheels_value)\n",
    "\n",
    "@app.callback(\n",
    "    Output('colors-output', 'children'),\n",
    "    [Input('colors', 'value')])\n",
    "def callback_b(colors_value):\n",
    "    return 'You\\'ve selected \"{}\"'.format(colors_value)\n",
    "\n",
    "@app.callback(\n",
    "    Output('display-image', 'src'),\n",
    "    [Input('wheels', 'value'),\n",
    "     Input('colors', 'value')])\n",
    "def callback_image(wheel, color):\n",
    "    path = '/home/mandeep/workspace/learning/plotly/udemy/Plotly-Dashboards-with-Dash/Data/Images/'\n",
    "    temp = encode_image(path+df[(df['wheels']==wheel) & (df['color']==color)]['image'].values[0])\n",
    "    return(temp)"
   ]
  },
  {
   "cell_type": "code",
   "execution_count": null,
   "metadata": {},
   "outputs": [
    {
     "name": "stdout",
     "output_type": "stream",
     "text": [
      " * Serving Flask app \"__main__\" (lazy loading)\n",
      " * Environment: production\n",
      "\u001b[31m   WARNING: Do not use the development server in a production environment.\u001b[0m\n",
      "\u001b[2m   Use a production WSGI server instead.\u001b[0m\n",
      " * Debug mode: off\n"
     ]
    },
    {
     "name": "stderr",
     "output_type": "stream",
     "text": [
      " * Running on http://127.0.0.1:8050/ (Press CTRL+C to quit)\n",
      "127.0.0.1 - - [27/Apr/2020 20:24:21] \"\u001b[37mGET / HTTP/1.1\u001b[0m\" 200 -\n",
      "127.0.0.1 - - [27/Apr/2020 20:24:21] \"\u001b[37mGET /_dash-layout HTTP/1.1\u001b[0m\" 200 -\n",
      "127.0.0.1 - - [27/Apr/2020 20:24:21] \"\u001b[37mGET /_dash-dependencies HTTP/1.1\u001b[0m\" 200 -\n",
      "127.0.0.1 - - [27/Apr/2020 20:24:21] \"\u001b[37mGET /children HTTP/1.1\u001b[0m\" 200 -\n",
      "127.0.0.1 - - [27/Apr/2020 20:24:21] \"\u001b[37mPOST /_dash-update-component HTTP/1.1\u001b[0m\" 200 -\n",
      "127.0.0.1 - - [27/Apr/2020 20:24:21] \"\u001b[37mPOST /_dash-update-component HTTP/1.1\u001b[0m\" 200 -\n",
      "127.0.0.1 - - [27/Apr/2020 20:24:21] \"\u001b[37mPOST /_dash-update-component HTTP/1.1\u001b[0m\" 200 -\n"
     ]
    },
    {
     "name": "stdout",
     "output_type": "stream",
     "text": [
      "data:image/png;base64,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\n"
     ]
    }
   ],
   "source": [
    "app.run_server()"
   ]
  },
  {
   "cell_type": "code",
   "execution_count": null,
   "metadata": {},
   "outputs": [],
   "source": [
    "#######\n",
    "# This uses a small wheels.csv dataset\n",
    "# to demonstrate multiple outputs.\n",
    "######\n",
    "import dash\n",
    "import dash_core_components as dcc\n",
    "import dash_html_components as html\n",
    "from dash.dependencies import Input, Output\n",
    "import pandas as pd\n",
    "import base64\n",
    "\n",
    "app = dash.Dash()\n",
    "\n",
    "df = pd.read_csv('/home/mandeep/workspace/learning/plotly/udemy/Plotly-Dashboards-with-Dash/Data/wheels.csv')\n",
    "\n",
    "def encode_image(image_file):\n",
    "    encoded = base64.b64encode(open(image_file, 'rb').read())\n",
    "    return 'data:image/png;base64,{}'.format(encoded.decode())\n",
    "\n",
    "app.layout = html.Div([\n",
    "    dcc.RadioItems(\n",
    "        id='wheels',\n",
    "        options=[{'label': i, 'value': i} for i in df['wheels'].unique()],\n",
    "        value=1\n",
    "    ),\n",
    "    html.Div(id='wheels-output'),\n",
    "\n",
    "    html.Hr(),  # add a horizontal rule\n",
    "    dcc.RadioItems(\n",
    "        id='colors',\n",
    "        options=[{'label': i, 'value': i} for i in df['color'].unique()],\n",
    "        value='blue'\n",
    "    ),\n",
    "    html.Div(id='colors-output'),\n",
    "    html.Img(id='display-image', src='children', height=300)\n",
    "], style={'fontFamily':'helvetica', 'fontSize':18})\n",
    "\n",
    "@app.callback(\n",
    "    Output('wheels-output', 'children'),\n",
    "    [Input('wheels', 'value')])\n",
    "def callback_a(wheels_value):\n",
    "    return 'You\\'ve selected \"{}\"'.format(wheels_value)\n",
    "\n",
    "@app.callback(\n",
    "    Output('colors-output', 'children'),\n",
    "    [Input('colors', 'value')])\n",
    "def callback_b(colors_value):\n",
    "    return 'You\\'ve selected \"{}\"'.format(colors_value)\n",
    "\n",
    "@app.callback(\n",
    "    Output('display-image', 'src'),\n",
    "    [Input('wheels', 'value'),\n",
    "     Input('colors', 'value')])\n",
    "def callback_image(wheel, color):\n",
    "    path = '/home/mandeep/workspace/learning/plotly/udemy/Plotly-Dashboards-with-Dash/Data/Images/'\n",
    "    temp = encode_image(path+df[(df['wheels']==wheel) & (df['color']==color)]['image'].values[0])\n",
    "    print(temp)\n",
    "    return(temp)\n",
    "\n",
    "app.run_server()\n"
   ]
  },
  {
   "cell_type": "code",
   "execution_count": null,
   "metadata": {},
   "outputs": [],
   "source": [
    "@app.callback(Output('display-image','src'),\n",
    "              [Input('wheels','value'),\n",
    "               Input('colors','value')])\n",
    "def callback_image(wheel,color):\n",
    "    path = '/home/mandeep/workspace/learning/plotly/udemy/Plotly-Dashboards-with-Dash/Data/Images/'\n",
    "    img_file_path = df[(df['wheels']==wheel) & (df['color']==color)]['image'].values[0]\n",
    "    return(encode_image(path+img_file_path))"
   ]
  },
  {
   "cell_type": "code",
   "execution_count": null,
   "metadata": {},
   "outputs": [],
   "source": []
  }
 ],
 "metadata": {
  "kernelspec": {
   "display_name": "Python 3",
   "language": "python",
   "name": "python3"
  },
  "language_info": {
   "codemirror_mode": {
    "name": "ipython",
    "version": 3
   },
   "file_extension": ".py",
   "mimetype": "text/x-python",
   "name": "python",
   "nbconvert_exporter": "python",
   "pygments_lexer": "ipython3",
   "version": "3.7.7"
  },
  "toc-autonumbering": false,
  "toc-showmarkdowntxt": true,
  "toc-showtags": false
 },
 "nbformat": 4,
 "nbformat_minor": 4
}
