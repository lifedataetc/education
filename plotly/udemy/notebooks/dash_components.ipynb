{
 "cells": [
  {
   "cell_type": "markdown",
   "metadata": {},
   "source": [
    "# Dashboard Components"
   ]
  },
  {
   "cell_type": "markdown",
   "metadata": {},
   "source": [
    "## Dash HTML Components\n",
    "- Decribe the layout of the page\n",
    "\n",
    "## Dash Core Components\n",
    "- Describe the individual graphs on the page"
   ]
  },
  {
   "cell_type": "markdown",
   "metadata": {},
   "source": [
    "### HTML Components"
   ]
  },
  {
   "cell_type": "code",
   "execution_count": 2,
   "metadata": {},
   "outputs": [],
   "source": [
    "import dash\n",
    "import dash_html_components as html"
   ]
  },
  {
   "cell_type": "code",
   "execution_count": 3,
   "metadata": {},
   "outputs": [],
   "source": [
    "app = dash.Dash()"
   ]
  },
  {
   "cell_type": "code",
   "execution_count": 25,
   "metadata": {},
   "outputs": [],
   "source": [
    "div2 = html.Div(['This is an inner div'],style={'color':'red','border':'2px red solid',\n",
    "                                                'background':'#abc0c4'})\n",
    "div3 = html.Div(['Another inner div'],style={'color':'blue','border':'3px blue dashed'})"
   ]
  },
  {
   "cell_type": "code",
   "execution_count": 32,
   "metadata": {},
   "outputs": [],
   "source": [
    "app.layout = html.Div(\n",
    "    \n",
    "    ['This is a div',\n",
    "     div2,\n",
    "     div3],\n",
    "    \n",
    "    style={'color':'green','border':'2px green solid','background-color':'#cccccc'}\n",
    "\n",
    ")"
   ]
  },
  {
   "cell_type": "code",
   "execution_count": 33,
   "metadata": {},
   "outputs": [
    {
     "name": "stdout",
     "output_type": "stream",
     "text": [
      " * Serving Flask app \"__main__\" (lazy loading)\n",
      " * Environment: production\n",
      "\u001b[31m   WARNING: Do not use the development server in a production environment.\u001b[0m\n",
      "\u001b[2m   Use a production WSGI server instead.\u001b[0m\n",
      " * Debug mode: off\n"
     ]
    },
    {
     "name": "stderr",
     "output_type": "stream",
     "text": [
      " * Running on http://127.0.0.1:8050/ (Press CTRL+C to quit)\n",
      "127.0.0.1 - - [25/Apr/2020 18:59:41] \"\u001b[37mGET / HTTP/1.1\u001b[0m\" 200 -\n",
      "127.0.0.1 - - [25/Apr/2020 18:59:41] \"\u001b[37mGET /_dash-component-suites/dash_renderer/react@16.v1_3_0m1586525360.13.0.min.js HTTP/1.1\u001b[0m\" 200 -\n",
      "127.0.0.1 - - [25/Apr/2020 18:59:41] \"\u001b[37mGET /_dash-component-suites/dash_renderer/prop-types@15.v1_3_0m1586525360.7.2.min.js HTTP/1.1\u001b[0m\" 200 -\n",
      "127.0.0.1 - - [25/Apr/2020 18:59:41] \"\u001b[37mGET /_dash-component-suites/dash_renderer/polyfill@7.v1_3_0m1586525360.8.7.min.js HTTP/1.1\u001b[0m\" 200 -\n",
      "127.0.0.1 - - [25/Apr/2020 18:59:41] \"\u001b[37mGET /_dash-component-suites/dash_core_components/dash_core_components-shared.v1_9_0m1586525734.js HTTP/1.1\u001b[0m\" 200 -\n",
      "127.0.0.1 - - [25/Apr/2020 18:59:41] \"\u001b[37mGET /_dash-component-suites/dash_renderer/react-dom@16.v1_3_0m1586525360.13.0.min.js HTTP/1.1\u001b[0m\" 200 -\n",
      "127.0.0.1 - - [25/Apr/2020 18:59:41] \"\u001b[37mGET /_dash-component-suites/dash_core_components/dash_core_components.v1_9_0m1586525734.min.js HTTP/1.1\u001b[0m\" 200 -\n",
      "127.0.0.1 - - [25/Apr/2020 18:59:41] \"\u001b[37mGET /_dash-component-suites/dash_html_components/dash_html_components.v1_0_3m1585775459.min.js HTTP/1.1\u001b[0m\" 200 -\n",
      "127.0.0.1 - - [25/Apr/2020 18:59:41] \"\u001b[37mGET /_dash-component-suites/dash_renderer/dash_renderer.v1_3_0m1586525372.min.js HTTP/1.1\u001b[0m\" 200 -\n",
      "127.0.0.1 - - [25/Apr/2020 18:59:41] \"\u001b[37mGET /_dash-layout HTTP/1.1\u001b[0m\" 200 -\n",
      "127.0.0.1 - - [25/Apr/2020 18:59:41] \"\u001b[37mGET /_dash-dependencies HTTP/1.1\u001b[0m\" 200 -\n"
     ]
    }
   ],
   "source": [
    "app.run_server()"
   ]
  },
  {
   "cell_type": "markdown",
   "metadata": {},
   "source": [
    "### Dash Core Components"
   ]
  },
  {
   "cell_type": "code",
   "execution_count": 35,
   "metadata": {},
   "outputs": [],
   "source": [
    "import dash\n",
    "import dash_core_components as dcc\n",
    "import dash_html_components as html"
   ]
  },
  {
   "cell_type": "code",
   "execution_count": 36,
   "metadata": {},
   "outputs": [],
   "source": [
    "app = dash.Dash()"
   ]
  },
  {
   "cell_type": "code",
   "execution_count": 56,
   "metadata": {},
   "outputs": [],
   "source": [
    "app.layout = html.Div([\n",
    "    \n",
    "    html.Label('Dropdown'),\n",
    "    dcc.Dropdown(options=[\n",
    "        {'label': 'New York City', 'value': 'NYC'},\n",
    "        {'label': 'Montréal', 'value': 'MTL'},\n",
    "        {'label': 'San Francisco', 'value': 'SF'}\n",
    "    ],\n",
    "    multi=True,\n",
    "    value=\"MTL\"),\n",
    "    \n",
    "    html.Label('Slider'),\n",
    "    dcc.Slider(min=-5,\n",
    "                max=10,\n",
    "                step=0.05,\n",
    "                value=-3,\n",
    "                marks={i:i for i in range(-5,10)}\n",
    "                ),\n",
    "    \n",
    "    html.P(html.Label('Radio shit')),\n",
    "    dcc.RadioItems(options=[\n",
    "        {'label': 'New York City', 'value': 'NYC'},\n",
    "        {'label': 'Montréal', 'value': 'MTL'},\n",
    "        {'label': 'San Francisco', 'value': 'SF'}\n",
    "    ],\n",
    "                  value='MTL')\n",
    "    \n",
    "])"
   ]
  },
  {
   "cell_type": "code",
   "execution_count": 57,
   "metadata": {},
   "outputs": [
    {
     "name": "stdout",
     "output_type": "stream",
     "text": [
      " * Serving Flask app \"__main__\" (lazy loading)\n",
      " * Environment: production\n",
      "\u001b[31m   WARNING: Do not use the development server in a production environment.\u001b[0m\n",
      "\u001b[2m   Use a production WSGI server instead.\u001b[0m\n",
      " * Debug mode: off\n"
     ]
    },
    {
     "name": "stderr",
     "output_type": "stream",
     "text": [
      " * Running on http://127.0.0.1:8050/ (Press CTRL+C to quit)\n",
      "127.0.0.1 - - [25/Apr/2020 19:33:43] \"\u001b[37mGET / HTTP/1.1\u001b[0m\" 200 -\n",
      "127.0.0.1 - - [25/Apr/2020 19:33:43] \"\u001b[37mGET /_dash-component-suites/dash_renderer/prop-types@15.v1_3_0m1586525360.7.2.min.js HTTP/1.1\u001b[0m\" 200 -\n",
      "127.0.0.1 - - [25/Apr/2020 19:33:43] \"\u001b[37mGET /_dash-component-suites/dash_renderer/react@16.v1_3_0m1586525360.13.0.min.js HTTP/1.1\u001b[0m\" 200 -\n",
      "127.0.0.1 - - [25/Apr/2020 19:33:43] \"\u001b[37mGET /_dash-component-suites/dash_core_components/dash_core_components-shared.v1_9_0m1586525734.js HTTP/1.1\u001b[0m\" 200 -\n",
      "127.0.0.1 - - [25/Apr/2020 19:33:43] \"\u001b[37mGET /_dash-component-suites/dash_renderer/polyfill@7.v1_3_0m1586525360.8.7.min.js HTTP/1.1\u001b[0m\" 200 -\n",
      "127.0.0.1 - - [25/Apr/2020 19:33:43] \"\u001b[37mGET /_dash-component-suites/dash_renderer/react-dom@16.v1_3_0m1586525360.13.0.min.js HTTP/1.1\u001b[0m\" 200 -\n",
      "127.0.0.1 - - [25/Apr/2020 19:33:43] \"\u001b[37mGET /_dash-component-suites/dash_core_components/dash_core_components.v1_9_0m1586525734.min.js HTTP/1.1\u001b[0m\" 200 -\n",
      "127.0.0.1 - - [25/Apr/2020 19:33:43] \"\u001b[37mGET /_dash-component-suites/dash_html_components/dash_html_components.v1_0_3m1585775459.min.js HTTP/1.1\u001b[0m\" 200 -\n",
      "127.0.0.1 - - [25/Apr/2020 19:33:43] \"\u001b[37mGET /_dash-component-suites/dash_renderer/dash_renderer.v1_3_0m1586525372.min.js HTTP/1.1\u001b[0m\" 200 -\n",
      "127.0.0.1 - - [25/Apr/2020 19:33:44] \"\u001b[37mGET /_dash-layout HTTP/1.1\u001b[0m\" 200 -\n",
      "127.0.0.1 - - [25/Apr/2020 19:33:44] \"\u001b[37mGET /_dash-dependencies HTTP/1.1\u001b[0m\" 200 -\n"
     ]
    }
   ],
   "source": [
    "app.run_server()"
   ]
  },
  {
   "cell_type": "code",
   "execution_count": 60,
   "metadata": {},
   "outputs": [],
   "source": [
    "import dash\n",
    "import dash_core_components as dcc\n",
    "import dash_html_components as html\n",
    "\n",
    "app = dash.Dash()\n",
    "\n",
    "markdown_text = '''\n",
    "### Dash and Markdown\n",
    "\n",
    "Dash apps can be written in Markdown.\n",
    "Dash uses the [CommonMark](http://commonmark.org/) specification of Markdown.\n",
    "\n",
    "Check out their [60 Second Markdown Tutorial](http://commonmark.org/help/)\n",
    "if this is your first introduction to Markdown!\n",
    "\n",
    "Markdown includes syntax for things like **bold text** and *italics*,\n",
    "[links](http://commonmark.org/help), inline `code` snippets, lists,\n",
    "quotes, and more.\n",
    "'''\n",
    "\n",
    "app.layout = html.Div([\n",
    "    dcc.Markdown(children=markdown_text)\n",
    "])"
   ]
  },
  {
   "cell_type": "code",
   "execution_count": 61,
   "metadata": {},
   "outputs": [
    {
     "name": "stdout",
     "output_type": "stream",
     "text": [
      " * Serving Flask app \"__main__\" (lazy loading)\n",
      " * Environment: production\n",
      "\u001b[31m   WARNING: Do not use the development server in a production environment.\u001b[0m\n",
      "\u001b[2m   Use a production WSGI server instead.\u001b[0m\n",
      " * Debug mode: off\n"
     ]
    },
    {
     "name": "stderr",
     "output_type": "stream",
     "text": [
      " * Running on http://127.0.0.1:8050/ (Press CTRL+C to quit)\n",
      "127.0.0.1 - - [25/Apr/2020 19:36:35] \"\u001b[37mGET / HTTP/1.1\u001b[0m\" 200 -\n",
      "127.0.0.1 - - [25/Apr/2020 19:36:35] \"\u001b[37mGET /_dash-component-suites/dash_renderer/prop-types@15.v1_3_0m1586525360.7.2.min.js HTTP/1.1\u001b[0m\" 200 -\n",
      "127.0.0.1 - - [25/Apr/2020 19:36:35] \"\u001b[37mGET /_dash-component-suites/dash_renderer/react@16.v1_3_0m1586525360.13.0.min.js HTTP/1.1\u001b[0m\" 200 -\n",
      "127.0.0.1 - - [25/Apr/2020 19:36:35] \"\u001b[37mGET /_dash-component-suites/dash_renderer/react-dom@16.v1_3_0m1586525360.13.0.min.js HTTP/1.1\u001b[0m\" 200 -\n",
      "127.0.0.1 - - [25/Apr/2020 19:36:35] \"\u001b[37mGET /_dash-component-suites/dash_core_components/dash_core_components-shared.v1_9_0m1586525734.js HTTP/1.1\u001b[0m\" 200 -\n",
      "127.0.0.1 - - [25/Apr/2020 19:36:35] \"\u001b[37mGET /_dash-component-suites/dash_renderer/polyfill@7.v1_3_0m1586525360.8.7.min.js HTTP/1.1\u001b[0m\" 200 -\n",
      "127.0.0.1 - - [25/Apr/2020 19:36:35] \"\u001b[37mGET /_dash-component-suites/dash_core_components/dash_core_components.v1_9_0m1586525734.min.js HTTP/1.1\u001b[0m\" 200 -\n",
      "127.0.0.1 - - [25/Apr/2020 19:36:35] \"\u001b[37mGET /_dash-component-suites/dash_html_components/dash_html_components.v1_0_3m1585775459.min.js HTTP/1.1\u001b[0m\" 200 -\n",
      "127.0.0.1 - - [25/Apr/2020 19:36:35] \"\u001b[37mGET /_dash-component-suites/dash_renderer/dash_renderer.v1_3_0m1586525372.min.js HTTP/1.1\u001b[0m\" 200 -\n",
      "127.0.0.1 - - [25/Apr/2020 19:36:35] \"\u001b[37mGET /_dash-layout HTTP/1.1\u001b[0m\" 200 -\n",
      "127.0.0.1 - - [25/Apr/2020 19:36:35] \"\u001b[37mGET /_dash-dependencies HTTP/1.1\u001b[0m\" 200 -\n",
      "127.0.0.1 - - [25/Apr/2020 19:36:36] \"\u001b[37mGET /_dash-component-suites/dash_core_components/async-markdown.v1_9_1m1586525729.js HTTP/1.1\u001b[0m\" 200 -\n",
      "127.0.0.1 - - [25/Apr/2020 19:36:36] \"\u001b[37mGET /_dash-component-suites/dash_core_components/async-highlight.v1_9_1m1586525729.js HTTP/1.1\u001b[0m\" 200 -\n"
     ]
    }
   ],
   "source": [
    "app.run_server()"
   ]
  },
  {
   "cell_type": "code",
   "execution_count": null,
   "metadata": {},
   "outputs": [],
   "source": []
  }
 ],
 "metadata": {
  "kernelspec": {
   "display_name": "Python 3",
   "language": "python",
   "name": "python3"
  },
  "language_info": {
   "codemirror_mode": {
    "name": "ipython",
    "version": 3
   },
   "file_extension": ".py",
   "mimetype": "text/x-python",
   "name": "python",
   "nbconvert_exporter": "python",
   "pygments_lexer": "ipython3",
   "version": "3.7.7"
  }
 },
 "nbformat": 4,
 "nbformat_minor": 4
}
